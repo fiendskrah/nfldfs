{
 "cells": [
  {
   "cell_type": "code",
   "execution_count": 1,
   "id": "3db695d6-d71d-4b9e-8776-9c1a2e39020d",
   "metadata": {},
   "outputs": [],
   "source": [
    "import pandas as pd\n",
    "from urllib.request import urlopen\n",
    "from bs4 import BeautifulSoup as soup"
   ]
  },
  {
   "cell_type": "markdown",
   "id": "27bffd54-58ef-4d8c-aef4-284c34172ae1",
   "metadata": {},
   "source": [
    "This will only work for UPCOMING WEEKS on the [espn nfl schedule website](https://www.espn.com/nfl/schedule).\n",
    "\n",
    "The page changes when a game is complete to reflect the top stats of the game, therefore this code will not work if any game of the week is completed. You can specify the week as a future date by adding `_/week/2` to the end of the URL (for week 2, for example)."
   ]
  },
  {
   "cell_type": "code",
   "execution_count": 2,
   "id": "287d297c-9de6-43e4-b96d-0450c188f0c9",
   "metadata": {},
   "outputs": [],
   "source": [
    "def make_schedule(week):\n",
    "    partial=\"https://www.espn.com/nfl/schedule/_/week/\"\n",
    "    url= f\"{partial}{week}\"\n",
    "    return url"
   ]
  },
  {
   "cell_type": "code",
   "execution_count": 3,
   "id": "5adceaa5-49ab-4552-8f17-98132ece318b",
   "metadata": {},
   "outputs": [],
   "source": [
    "url = make_schedule(16)\n",
    "html = urlopen(url)\n",
    "soup = soup(html)"
   ]
  },
  {
   "cell_type": "code",
   "execution_count": null,
   "id": "498fd1dd-b854-4868-a32d-3417dda680ff",
   "metadata": {},
   "outputs": [],
   "source": []
  },
  {
   "cell_type": "code",
   "execution_count": 4,
   "id": "ccca9416-6435-4ce4-9977-eed6ef378b6d",
   "metadata": {},
   "outputs": [],
   "source": [
    "def make_location_list():\n",
    "    locations = soup.findAll('td', attrs={'class':\"schedule-location\"})\n",
    "    location_list = []\n",
    "    for stadium in locations:\n",
    "        location_list.append(stadium.text)\n",
    "    return location_list"
   ]
  },
  {
   "cell_type": "code",
   "execution_count": 5,
   "id": "ca58b80d-c77d-4212-a9b7-35a7c95d09f0",
   "metadata": {},
   "outputs": [],
   "source": [
    "location_list = make_location_list()"
   ]
  },
  {
   "cell_type": "code",
   "execution_count": 6,
   "id": "b47b7aeb-44b7-4610-a884-ac3872b05bae",
   "metadata": {},
   "outputs": [
    {
     "data": {
      "text/plain": [
       "['Nissan Stadium, Nashville',\n",
       " 'Lambeau Field, Green Bay',\n",
       " 'State Farm Stadium, Glendale',\n",
       " 'Mercedes-Benz Stadium, Atlanta',\n",
       " 'Paul Brown Stadium, Cincinnati',\n",
       " 'U.S. Bank Stadium, Minneapolis',\n",
       " 'Gillette Stadium, Foxboro',\n",
       " 'MetLife Stadium, East Rutherford',\n",
       " 'Lincoln Financial Field, Philadelphia',\n",
       " 'Bank of America Stadium, Charlotte',\n",
       " 'NRG Stadium, Houston',\n",
       " 'Lumen Field, Seattle',\n",
       " 'GEHA Field at Arrowhead Stadium, Kansas City',\n",
       " 'Allegiant Stadium, Las Vegas',\n",
       " 'AT&T Stadium, Arlington',\n",
       " 'Caesars Superdome, New Orleans']"
      ]
     },
     "execution_count": 6,
     "metadata": {},
     "output_type": "execute_result"
    }
   ],
   "source": [
    "location_list"
   ]
  },
  {
   "cell_type": "code",
   "execution_count": 7,
   "id": "92dba3de-91dc-4cbd-b931-df216baa2996",
   "metadata": {},
   "outputs": [],
   "source": [
    "def make_team_list():\n",
    "    teams = soup.findAll('a', attrs={'class':\"team-name\"})\n",
    "    team_list = []\n",
    "    for team in teams:\n",
    "        team_list.append(team.text)\n",
    "    return team_list"
   ]
  },
  {
   "cell_type": "code",
   "execution_count": 8,
   "id": "51e804d0-f81d-4e37-a2f2-835685a9408e",
   "metadata": {},
   "outputs": [],
   "source": [
    "team_list = make_team_list()"
   ]
  },
  {
   "cell_type": "code",
   "execution_count": 9,
   "id": "c6ddbd87-99da-4ee5-b2ba-fa1d15ac0623",
   "metadata": {},
   "outputs": [
    {
     "data": {
      "text/plain": [
       "['San Francisco SF',\n",
       " 'Tennessee TEN',\n",
       " 'Cleveland CLE',\n",
       " 'Green Bay GB',\n",
       " 'Indianapolis IND',\n",
       " 'Arizona ARI',\n",
       " 'Detroit DET',\n",
       " 'Atlanta ATL',\n",
       " 'Baltimore BAL',\n",
       " 'Cincinnati CIN',\n",
       " 'Los Angeles LAR',\n",
       " 'Minnesota MIN',\n",
       " 'Buffalo BUF',\n",
       " 'New England NE',\n",
       " 'Jacksonville JAX',\n",
       " 'New York NYJ',\n",
       " 'New York NYG',\n",
       " 'Philadelphia PHI',\n",
       " 'Tampa Bay TB',\n",
       " 'Carolina CAR',\n",
       " 'Los Angeles LAC',\n",
       " 'Houston HOU',\n",
       " 'Chicago CHI',\n",
       " 'Seattle SEA',\n",
       " 'Pittsburgh PIT',\n",
       " 'Kansas City KC',\n",
       " 'Denver DEN',\n",
       " 'Las Vegas LV',\n",
       " 'Washington WSH',\n",
       " 'Dallas DAL',\n",
       " 'Miami MIA',\n",
       " 'New Orleans NO']"
      ]
     },
     "execution_count": 9,
     "metadata": {},
     "output_type": "execute_result"
    }
   ],
   "source": [
    "team_list"
   ]
  },
  {
   "cell_type": "code",
   "execution_count": 10,
   "id": "4d7895dd-5e83-4465-8ac5-cc037e1ea6bc",
   "metadata": {},
   "outputs": [],
   "source": [
    "byes = soup.findAll('tr', attrs={'class':'odd byeweek'})"
   ]
  },
  {
   "cell_type": "code",
   "execution_count": 11,
   "id": "d04bf622-18ea-48af-b798-46681850bfa3",
   "metadata": {},
   "outputs": [
    {
     "name": "stdout",
     "output_type": "stream",
     "text": [
      "16 , 32\n"
     ]
    }
   ],
   "source": [
    "print(len(location_list), \",\", len(team_list))\n",
    "# TEST: should be 2:1 ratio"
   ]
  },
  {
   "cell_type": "code",
   "execution_count": 12,
   "id": "8e1e7708-4fb2-4dcc-98f2-1d0c61347e2d",
   "metadata": {},
   "outputs": [],
   "source": [
    "def filter_byes(team_list, byes):\n",
    "    playing_teams = [n for n in team_list if not any(m in n for m in byes)]\n",
    "    return playing_teams"
   ]
  },
  {
   "cell_type": "code",
   "execution_count": 13,
   "id": "2cef5098-6a9d-48c2-84ce-f4b3fca976f9",
   "metadata": {},
   "outputs": [],
   "source": [
    "playing_teams = filter_byes(team_list, byes)"
   ]
  },
  {
   "cell_type": "code",
   "execution_count": 14,
   "id": "5a02f3a9-6755-475c-ac4b-87f52dbd73a0",
   "metadata": {},
   "outputs": [
    {
     "data": {
      "text/plain": [
       "['San Francisco SF',\n",
       " 'Tennessee TEN',\n",
       " 'Cleveland CLE',\n",
       " 'Green Bay GB',\n",
       " 'Indianapolis IND',\n",
       " 'Arizona ARI',\n",
       " 'Detroit DET',\n",
       " 'Atlanta ATL',\n",
       " 'Baltimore BAL',\n",
       " 'Cincinnati CIN',\n",
       " 'Los Angeles LAR',\n",
       " 'Minnesota MIN',\n",
       " 'Buffalo BUF',\n",
       " 'New England NE',\n",
       " 'Jacksonville JAX',\n",
       " 'New York NYJ',\n",
       " 'New York NYG',\n",
       " 'Philadelphia PHI',\n",
       " 'Tampa Bay TB',\n",
       " 'Carolina CAR',\n",
       " 'Los Angeles LAC',\n",
       " 'Houston HOU',\n",
       " 'Chicago CHI',\n",
       " 'Seattle SEA',\n",
       " 'Pittsburgh PIT',\n",
       " 'Kansas City KC',\n",
       " 'Denver DEN',\n",
       " 'Las Vegas LV',\n",
       " 'Washington WSH',\n",
       " 'Dallas DAL',\n",
       " 'Miami MIA',\n",
       " 'New Orleans NO']"
      ]
     },
     "execution_count": 14,
     "metadata": {},
     "output_type": "execute_result"
    }
   ],
   "source": [
    "playing_teams"
   ]
  },
  {
   "cell_type": "code",
   "execution_count": 15,
   "id": "2e6e3dcd-cea0-46cc-8dc8-9a15428d1eec",
   "metadata": {},
   "outputs": [],
   "source": [
    "def create_contest(playing_teams, location_list):\n",
    "    visiting_team = playing_teams[0::2]\n",
    "    home_team = playing_teams[1::2]\n",
    "    opponents = tuple(zip(visiting_team, home_team))\n",
    "    contest = dict(zip(opponents, location_list))\n",
    "    return contest"
   ]
  },
  {
   "cell_type": "code",
   "execution_count": 16,
   "id": "ff08ec10-09bc-42ca-b4b5-ebc8d6701bc2",
   "metadata": {},
   "outputs": [],
   "source": [
    "contest = create_contest(playing_teams, location_list)"
   ]
  },
  {
   "cell_type": "code",
   "execution_count": 17,
   "id": "f823e5eb-26db-4363-92b2-b8d76102827e",
   "metadata": {},
   "outputs": [
    {
     "data": {
      "text/plain": [
       "{('San Francisco SF', 'Tennessee TEN'): 'Nissan Stadium, Nashville',\n",
       " ('Cleveland CLE', 'Green Bay GB'): 'Lambeau Field, Green Bay',\n",
       " ('Indianapolis IND', 'Arizona ARI'): 'State Farm Stadium, Glendale',\n",
       " ('Detroit DET', 'Atlanta ATL'): 'Mercedes-Benz Stadium, Atlanta',\n",
       " ('Baltimore BAL', 'Cincinnati CIN'): 'Paul Brown Stadium, Cincinnati',\n",
       " ('Los Angeles LAR', 'Minnesota MIN'): 'U.S. Bank Stadium, Minneapolis',\n",
       " ('Buffalo BUF', 'New England NE'): 'Gillette Stadium, Foxboro',\n",
       " ('Jacksonville JAX', 'New York NYJ'): 'MetLife Stadium, East Rutherford',\n",
       " ('New York NYG', 'Philadelphia PHI'): 'Lincoln Financial Field, Philadelphia',\n",
       " ('Tampa Bay TB', 'Carolina CAR'): 'Bank of America Stadium, Charlotte',\n",
       " ('Los Angeles LAC', 'Houston HOU'): 'NRG Stadium, Houston',\n",
       " ('Chicago CHI', 'Seattle SEA'): 'Lumen Field, Seattle',\n",
       " ('Pittsburgh PIT',\n",
       "  'Kansas City KC'): 'GEHA Field at Arrowhead Stadium, Kansas City',\n",
       " ('Denver DEN', 'Las Vegas LV'): 'Allegiant Stadium, Las Vegas',\n",
       " ('Washington WSH', 'Dallas DAL'): 'AT&T Stadium, Arlington',\n",
       " ('Miami MIA', 'New Orleans NO'): 'Caesars Superdome, New Orleans'}"
      ]
     },
     "execution_count": 17,
     "metadata": {},
     "output_type": "execute_result"
    }
   ],
   "source": [
    "contest"
   ]
  },
  {
   "cell_type": "code",
   "execution_count": null,
   "id": "5798b5ab-2570-4473-882c-859326e64f80",
   "metadata": {},
   "outputs": [],
   "source": []
  }
 ],
 "metadata": {
  "kernelspec": {
   "display_name": "Python 3 (ipykernel)",
   "language": "python",
   "name": "python3"
  },
  "language_info": {
   "codemirror_mode": {
    "name": "ipython",
    "version": 3
   },
   "file_extension": ".py",
   "mimetype": "text/x-python",
   "name": "python",
   "nbconvert_exporter": "python",
   "pygments_lexer": "ipython3",
   "version": "3.9.6"
  }
 },
 "nbformat": 4,
 "nbformat_minor": 5
}
