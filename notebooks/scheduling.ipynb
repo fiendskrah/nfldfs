{
 "cells": [
  {
   "cell_type": "markdown",
   "id": "27bffd54-58ef-4d8c-aef4-284c34172ae1",
   "metadata": {},
   "source": [
    "visitng team, home team, date | team, home stadium"
   ]
  },
  {
   "cell_type": "code",
   "execution_count": 1,
   "id": "3db695d6-d71d-4b9e-8776-9c1a2e39020d",
   "metadata": {},
   "outputs": [],
   "source": [
    "import pandas as pd\n",
    "from urllib.request import urlopen\n",
    "from bs4 import BeautifulSoup as soup"
   ]
  },
  {
   "cell_type": "code",
   "execution_count": 2,
   "id": "498fd1dd-b854-4868-a32d-3417dda680ff",
   "metadata": {},
   "outputs": [],
   "source": [
    "url = \"https://www.espn.com/nfl/schedule\"      \n",
    "html = urlopen(url)\n",
    "soup = soup(html) "
   ]
  },
  {
   "cell_type": "code",
   "execution_count": 3,
   "id": "3ce53d81-7874-4b4f-8508-950e6ea594c8",
   "metadata": {},
   "outputs": [],
   "source": [
    "sched = soup.findAll('tr', attrs={'class':'odd'})\n",
    "     \n",
    "#'class':\"date_time\",\n",
    "#'class':\"schedule-location\"         "
   ]
  },
  {
   "cell_type": "code",
   "execution_count": 4,
   "id": "0b718751-87c1-4a31-918c-646d02e8f446",
   "metadata": {},
   "outputs": [
    {
     "data": {
      "text/plain": [
       "['<tr class=\"odd\" data-is-neutral-site=\"false\"',\n",
       " '<td class=\"\"',\n",
       " '<div class=\"teams\" data-behavior=\"fix_broken_images\"',\n",
       " '<a href=\"/nfl/team/_/name/pit/pittsburgh-steelers\" name=\"&amp;lpos=nfl:schedule:team\"',\n",
       " '<img class=\"schedule-team-logo\" src=\"https://a.espncdn.com/combiner/i?img=/i/teamlogos/nfl/500/scoreboard/pit.png&amp;h=50\"/',\n",
       " '</a',\n",
       " '</div',\n",
       " '<a class=\"team-name\" href=\"/nfl/team/_/name/pit/pittsburgh-steelers\" name=\"&amp;lpos=nfl:schedule:team\"',\n",
       " '<span',\n",
       " 'Pittsburgh</span',\n",
       " ' <abbr title=\"Pittsburgh Steelers\"',\n",
       " 'PIT</abbr',\n",
       " '</a',\n",
       " '</td',\n",
       " '<td class=\"home\"',\n",
       " '<div class=\"home-wrapper\" data-home-text=\"at\"',\n",
       " '<div class=\"teams\" data-behavior=\"fix_broken_images\"',\n",
       " '<a href=\"/nfl/team/_/name/min/minnesota-vikings\" name=\"&amp;lpos=nfl:schedule:team\"',\n",
       " '<img class=\"schedule-team-logo\" src=\"https://a.espncdn.com/combiner/i?img=/i/teamlogos/nfl/500/scoreboard/min.png&amp;h=50\"/',\n",
       " '</a',\n",
       " '</div',\n",
       " '<a class=\"team-name\" href=\"/nfl/team/_/name/min/minnesota-vikings\" name=\"&amp;lpos=nfl:schedule:team\"',\n",
       " '<span',\n",
       " 'Minnesota</span',\n",
       " ' <abbr title=\"Minnesota Vikings\"',\n",
       " 'MIN</abbr',\n",
       " '</a',\n",
       " '</div',\n",
       " '</td',\n",
       " '<td class=\"live\"',\n",
       " '<a href=\"/nfl/game?gameId=401326523\" name=\"&amp;lpos=nfl:schedule:live\"',\n",
       " 'LIVE</a',\n",
       " '</td',\n",
       " '<td class=\"network\"',\n",
       " 'FOX/NFL NET</td',\n",
       " '<td class=\"tickets\"',\n",
       " '</td',\n",
       " '<td class=\"schedule-location\"',\n",
       " 'U.S. Bank Stadium, Minneapolis</td',\n",
       " '<td',\n",
       " '</td',\n",
       " '</tr',\n",
       " '']"
      ]
     },
     "execution_count": 4,
     "metadata": {},
     "output_type": "execute_result"
    }
   ],
   "source": [
    "str(sched[0]).split('>')"
   ]
  },
  {
   "cell_type": "code",
   "execution_count": 5,
   "id": "09155601-22bf-4a57-bff1-631fd163e928",
   "metadata": {},
   "outputs": [],
   "source": [
    "locations = soup.findAll('td', attrs={'class':\"schedule-location\"})\n",
    "location_list = []\n",
    "for stadium in locations:\n",
    "    location_list.append(stadium.text)"
   ]
  },
  {
   "cell_type": "code",
   "execution_count": 6,
   "id": "4e75e3b2-2374-46d8-adfa-94afcb344356",
   "metadata": {},
   "outputs": [],
   "source": [
    "teams = soup.findAll('a', attrs={'class':\"team-name\"})\n",
    "team_list = []\n",
    "for team in teams:\n",
    "    team_list.append(team.text)"
   ]
  },
  {
   "cell_type": "code",
   "execution_count": 7,
   "id": "d04bf622-18ea-48af-b798-46681850bfa3",
   "metadata": {},
   "outputs": [
    {
     "name": "stdout",
     "output_type": "stream",
     "text": [
      "14 , 32\n"
     ]
    }
   ],
   "source": [
    "print(len(location_list), \",\", len(team_list))\n",
    "# should be 2:1 ratio"
   ]
  },
  {
   "cell_type": "code",
   "execution_count": 8,
   "id": "31a5f628-adbb-4cb2-8c7c-49f2b7753015",
   "metadata": {},
   "outputs": [],
   "source": [
    "byes = ['IndianapolisIND', 'MiamiMIA', 'New EnglandNE', 'PhiladelphiaPHI']"
   ]
  },
  {
   "cell_type": "code",
   "execution_count": 28,
   "id": "8e1e7708-4fb2-4dcc-98f2-1d0c61347e2d",
   "metadata": {},
   "outputs": [],
   "source": [
    "def filter_byes(team_list, byes):\n",
    "    playing_teams = [n for n in team_list if not any(m in n for m in byes)]\n",
    "    return playing_teams"
   ]
  },
  {
   "cell_type": "code",
   "execution_count": 32,
   "id": "2cef5098-6a9d-48c2-84ce-f4b3fca976f9",
   "metadata": {},
   "outputs": [],
   "source": [
    "playing_teams = filter_byes(team_list, byes)"
   ]
  },
  {
   "cell_type": "code",
   "execution_count": 34,
   "id": "2e6e3dcd-cea0-46cc-8dc8-9a15428d1eec",
   "metadata": {},
   "outputs": [],
   "source": [
    "def create_contest(playing_teams, location_list):\n",
    "    visiting_team = playing_teams[0::2]\n",
    "    home_team = playing_teams[1::2]\n",
    "    opponents = tuple(zip(visiting_team, home_team))\n",
    "    contest = dict(zip(opponents, location_list))\n",
    "    return contest"
   ]
  },
  {
   "cell_type": "code",
   "execution_count": 35,
   "id": "ff08ec10-09bc-42ca-b4b5-ebc8d6701bc2",
   "metadata": {},
   "outputs": [],
   "source": [
    "contest = create_contest(playing_teams, location_list)"
   ]
  },
  {
   "cell_type": "code",
   "execution_count": 36,
   "id": "f823e5eb-26db-4363-92b2-b8d76102827e",
   "metadata": {},
   "outputs": [
    {
     "data": {
      "text/plain": [
       "{('Pittsburgh PIT', 'Minnesota MIN'): 'U.S. Bank Stadium, Minneapolis',\n",
       " ('Baltimore BAL', 'Cleveland CLE'): 'FirstEnergy Stadium, Cleveland',\n",
       " ('Jacksonville JAX', 'Tennessee TEN'): 'Nissan Stadium, Nashville',\n",
       " ('Las Vegas LV',\n",
       "  'Kansas City KC'): 'GEHA Field at Arrowhead Stadium, Kansas City',\n",
       " ('New Orleans NO', 'New York NYJ'): 'MetLife Stadium, East Rutherford',\n",
       " ('Dallas DAL', 'Washington WSH'): 'FedExField, Landover',\n",
       " ('Atlanta ATL', 'Carolina CAR'): 'Bank of America Stadium, Charlotte',\n",
       " ('Seattle SEA', 'Houston HOU'): 'NRG Stadium, Houston',\n",
       " ('Detroit DET', 'Denver DEN'): 'Empower Field at Mile High, Denver',\n",
       " ('New York NYG', 'Los Angeles LAC'): 'SoFi Stadium, Inglewood',\n",
       " ('San Francisco SF', 'Cincinnati CIN'): 'Paul Brown Stadium, Cincinnati',\n",
       " ('Buffalo BUF', 'Tampa Bay TB'): 'Raymond James Stadium, Tampa',\n",
       " ('Chicago CHI', 'Green Bay GB'): 'Lambeau Field, Green Bay',\n",
       " ('Los Angeles LAR', 'Arizona ARI'): 'State Farm Stadium, Glendale'}"
      ]
     },
     "execution_count": 36,
     "metadata": {},
     "output_type": "execute_result"
    }
   ],
   "source": [
    "contest"
   ]
  },
  {
   "cell_type": "code",
   "execution_count": null,
   "id": "5798b5ab-2570-4473-882c-859326e64f80",
   "metadata": {},
   "outputs": [],
   "source": []
  }
 ],
 "metadata": {
  "kernelspec": {
   "display_name": "Python 3 (ipykernel)",
   "language": "python",
   "name": "python3"
  },
  "language_info": {
   "codemirror_mode": {
    "name": "ipython",
    "version": 3
   },
   "file_extension": ".py",
   "mimetype": "text/x-python",
   "name": "python",
   "nbconvert_exporter": "python",
   "pygments_lexer": "ipython3",
   "version": "3.9.6"
  }
 },
 "nbformat": 4,
 "nbformat_minor": 5
}
