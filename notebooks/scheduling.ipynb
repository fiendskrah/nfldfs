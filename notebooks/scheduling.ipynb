{
 "cells": [
  {
   "cell_type": "markdown",
   "id": "27bffd54-58ef-4d8c-aef4-284c34172ae1",
   "metadata": {},
   "source": [
    "visitng team, home team, date | team, home stadium"
   ]
  },
  {
   "cell_type": "code",
   "execution_count": 1,
   "id": "3db695d6-d71d-4b9e-8776-9c1a2e39020d",
   "metadata": {},
   "outputs": [],
   "source": [
    "import pandas as pd\n",
    "from urllib.request import urlopen\n",
    "from bs4 import BeautifulSoup as soup"
   ]
  },
  {
   "cell_type": "code",
   "execution_count": 2,
   "id": "498fd1dd-b854-4868-a32d-3417dda680ff",
   "metadata": {},
   "outputs": [],
   "source": [
    "url = \"https://www.espn.com/nfl/schedule\"      \n",
    "html = urlopen(url)\n",
    "soup = soup(html) "
   ]
  },
  {
   "cell_type": "code",
   "execution_count": 3,
   "id": "f68792c4-dad7-42d9-91e5-9147ef3acacc",
   "metadata": {},
   "outputs": [],
   "source": [
    "#sched = sched.findAll('div', attrs={'id':\"sched-container\"})"
   ]
  },
  {
   "cell_type": "code",
   "execution_count": 4,
   "id": "3ce53d81-7874-4b4f-8508-950e6ea594c8",
   "metadata": {},
   "outputs": [],
   "source": [
    "sched = soup.findAll('tr', attrs={'class':'odd'})\n",
    "     \n",
    "#'class':\"date_time\",\n",
    "#'class':\"schedule-location\"         "
   ]
  },
  {
   "cell_type": "code",
   "execution_count": 5,
   "id": "0b718751-87c1-4a31-918c-646d02e8f446",
   "metadata": {},
   "outputs": [
    {
     "data": {
      "text/plain": [
       "['<tr class=\"odd\" data-is-neutral-site=\"false\"',\n",
       " '<td class=\"\"',\n",
       " '<div class=\"teams\" data-behavior=\"fix_broken_images\"',\n",
       " '<a href=\"/nfl/team/_/name/pit/pittsburgh-steelers\" name=\"&amp;lpos=nfl:schedule:team\"',\n",
       " '<img class=\"schedule-team-logo\" src=\"https://a.espncdn.com/combiner/i?img=/i/teamlogos/nfl/500/scoreboard/pit.png&amp;h=50\"/',\n",
       " '</a',\n",
       " '</div',\n",
       " '<a class=\"team-name\" href=\"/nfl/team/_/name/pit/pittsburgh-steelers\" name=\"&amp;lpos=nfl:schedule:team\"',\n",
       " '<span',\n",
       " 'Pittsburgh</span',\n",
       " ' <abbr title=\"Pittsburgh Steelers\"',\n",
       " 'PIT</abbr',\n",
       " '</a',\n",
       " '</td',\n",
       " '<td class=\"home\"',\n",
       " '<div class=\"home-wrapper\" data-home-text=\"at\"',\n",
       " '<div class=\"teams\" data-behavior=\"fix_broken_images\"',\n",
       " '<a href=\"/nfl/team/_/name/min/minnesota-vikings\" name=\"&amp;lpos=nfl:schedule:team\"',\n",
       " '<img class=\"schedule-team-logo\" src=\"https://a.espncdn.com/combiner/i?img=/i/teamlogos/nfl/500/scoreboard/min.png&amp;h=50\"/',\n",
       " '</a',\n",
       " '</div',\n",
       " '<a class=\"team-name\" href=\"/nfl/team/_/name/min/minnesota-vikings\" name=\"&amp;lpos=nfl:schedule:team\"',\n",
       " '<span',\n",
       " 'Minnesota</span',\n",
       " ' <abbr title=\"Minnesota Vikings\"',\n",
       " 'MIN</abbr',\n",
       " '</a',\n",
       " '</div',\n",
       " '</td',\n",
       " '<td data-behavior=\"date_time\" data-date=\"2021-12-10T01:20Z\"',\n",
       " '<a data-dateformat=\"time1\" href=\"/nfl/game/_/gameId/401326523\" name=\"&amp;lpos=nfl:schedule:time\"',\n",
       " '</a',\n",
       " '</td',\n",
       " '<td class=\"network\"',\n",
       " 'FOX/NFL NET</td',\n",
       " '<td class=\"tickets\"',\n",
       " '<a class=\"external\" href=\"https://www.vividseats.com/nfl/minnesota-vikings-tickets/vikings-3-6-3558096.html?wsUser=717&amp;wsVar=us~nfl~schedule,desktop,en\" name=\"&amp;lpos=nfl:schedule:tickets\" target=\"_blank\"',\n",
       " 'Tickets as low as $38</a',\n",
       " '</td',\n",
       " '<td class=\"schedule-location\"',\n",
       " 'U.S. Bank Stadium, Minneapolis</td',\n",
       " '<td',\n",
       " '</td',\n",
       " '</tr',\n",
       " '']"
      ]
     },
     "execution_count": 5,
     "metadata": {},
     "output_type": "execute_result"
    }
   ],
   "source": [
    "str(sched[0]).split('>')"
   ]
  },
  {
   "cell_type": "code",
   "execution_count": 6,
   "id": "09155601-22bf-4a57-bff1-631fd163e928",
   "metadata": {},
   "outputs": [],
   "source": [
    "locations = soup.findAll('td', attrs={'class':\"schedule-location\"})\n",
    "location_list = []\n",
    "for stadium in locations:\n",
    "    location_list.append(stadium.text)"
   ]
  },
  {
   "cell_type": "code",
   "execution_count": 7,
   "id": "4e75e3b2-2374-46d8-adfa-94afcb344356",
   "metadata": {},
   "outputs": [],
   "source": [
    "teams = soup.findAll('a', attrs={'class':\"team-name\"})\n",
    "team_list = []\n",
    "for team in teams:\n",
    "    team_list.append(team.text)"
   ]
  },
  {
   "cell_type": "code",
   "execution_count": 8,
   "id": "d04bf622-18ea-48af-b798-46681850bfa3",
   "metadata": {},
   "outputs": [
    {
     "name": "stdout",
     "output_type": "stream",
     "text": [
      "14 , 32\n"
     ]
    }
   ],
   "source": [
    "print(len(location_list), \",\", len(team_list))\n"
   ]
  },
  {
   "cell_type": "code",
   "execution_count": 9,
   "id": "563a7df0-e2e0-4c8e-b03b-410670fe06be",
   "metadata": {},
   "outputs": [
    {
     "data": {
      "text/plain": [
       "['U.S. Bank Stadium, Minneapolis',\n",
       " 'FirstEnergy Stadium, Cleveland',\n",
       " 'Nissan Stadium, Nashville',\n",
       " 'GEHA Field at Arrowhead Stadium, Kansas City',\n",
       " 'MetLife Stadium, East Rutherford',\n",
       " 'FedExField, Landover',\n",
       " 'Bank of America Stadium, Charlotte',\n",
       " 'NRG Stadium, Houston',\n",
       " 'Empower Field at Mile High, Denver',\n",
       " 'SoFi Stadium, Inglewood',\n",
       " 'Paul Brown Stadium, Cincinnati',\n",
       " 'Raymond James Stadium, Tampa',\n",
       " 'Lambeau Field, Green Bay',\n",
       " 'State Farm Stadium, Glendale']"
      ]
     },
     "execution_count": 9,
     "metadata": {},
     "output_type": "execute_result"
    }
   ],
   "source": [
    "location_list"
   ]
  },
  {
   "cell_type": "code",
   "execution_count": 10,
   "id": "893e81e5-5ef5-4e83-995c-32a0c5f7f4f5",
   "metadata": {},
   "outputs": [
    {
     "data": {
      "text/plain": [
       "['Pittsburgh PIT',\n",
       " 'Minnesota MIN',\n",
       " 'Baltimore BAL',\n",
       " 'Cleveland CLE',\n",
       " 'Jacksonville JAX',\n",
       " 'Tennessee TEN',\n",
       " 'Las Vegas LV',\n",
       " 'Kansas City KC',\n",
       " 'New Orleans NO',\n",
       " 'New York NYJ',\n",
       " 'Dallas DAL',\n",
       " 'Washington WSH',\n",
       " 'Atlanta ATL',\n",
       " 'Carolina CAR',\n",
       " 'Seattle SEA',\n",
       " 'Houston HOU',\n",
       " 'Detroit DET',\n",
       " 'Denver DEN',\n",
       " 'New York NYG',\n",
       " 'Los Angeles LAC',\n",
       " 'San Francisco SF',\n",
       " 'Cincinnati CIN',\n",
       " 'Buffalo BUF',\n",
       " 'Tampa Bay TB',\n",
       " 'Chicago CHI',\n",
       " 'Green Bay GB',\n",
       " 'Los Angeles LAR',\n",
       " 'Arizona ARI',\n",
       " 'IndianapolisIND',\n",
       " 'MiamiMIA',\n",
       " 'New EnglandNE',\n",
       " 'PhiladelphiaPHI']"
      ]
     },
     "execution_count": 10,
     "metadata": {},
     "output_type": "execute_result"
    }
   ],
   "source": [
    "team_list"
   ]
  },
  {
   "cell_type": "code",
   "execution_count": 11,
   "id": "31a5f628-adbb-4cb2-8c7c-49f2b7753015",
   "metadata": {},
   "outputs": [],
   "source": [
    "byes = ['IndianapolisIND', 'MiamiMIA', 'New EnglandNE', 'PhiladelphiaPHI']"
   ]
  },
  {
   "cell_type": "code",
   "execution_count": 51,
   "id": "bb3ab07b-4076-4c5a-8aea-e44bc14a9598",
   "metadata": {},
   "outputs": [],
   "source": [
    "def filter_byes(team_list, byes):\n",
    "    playing_teams = list(n for n in team_list if not \n",
    "                         any(m in n for m in byes))\n",
    "    playing_teams = [j for i in playing_teams for j in i] # extracting nested list\n",
    "    print(\"variable `playing_teams` created!\")"
   ]
  },
  {
   "cell_type": "code",
   "execution_count": 52,
   "id": "367d0ef1-6589-4031-9721-a1a722f66688",
   "metadata": {},
   "outputs": [
    {
     "name": "stdout",
     "output_type": "stream",
     "text": [
      "variable `playing_teams` created!\n"
     ]
    }
   ],
   "source": [
    "filter_byes(team_list, byes)"
   ]
  },
  {
   "cell_type": "code",
   "execution_count": 54,
   "id": "114c1d7c-75ff-4459-a7c7-eb0aff1e0bc5",
   "metadata": {},
   "outputs": [
    {
     "data": {
      "text/plain": [
       "28"
      ]
     },
     "execution_count": 54,
     "metadata": {},
     "output_type": "execute_result"
    }
   ],
   "source": [
    "len(playing_teams)"
   ]
  },
  {
   "cell_type": "code",
   "execution_count": 55,
   "id": "03d6f322-52c2-4dfc-ae49-8a879608df15",
   "metadata": {},
   "outputs": [
    {
     "data": {
      "text/plain": [
       "14"
      ]
     },
     "execution_count": 55,
     "metadata": {},
     "output_type": "execute_result"
    }
   ],
   "source": [
    "len(location_list)"
   ]
  },
  {
   "cell_type": "code",
   "execution_count": 56,
   "id": "acbc5348-eda0-4588-b4b3-b9e87c64768c",
   "metadata": {},
   "outputs": [
    {
     "data": {
      "text/plain": [
       "28"
      ]
     },
     "execution_count": 56,
     "metadata": {},
     "output_type": "execute_result"
    }
   ],
   "source": [
    "14*2"
   ]
  },
  {
   "cell_type": "code",
   "execution_count": null,
   "id": "f3ee695e-8a3b-4373-b482-32ddbc3ba5f9",
   "metadata": {},
   "outputs": [],
   "source": []
  }
 ],
 "metadata": {
  "kernelspec": {
   "display_name": "Python 3 (ipykernel)",
   "language": "python",
   "name": "python3"
  },
  "language_info": {
   "codemirror_mode": {
    "name": "ipython",
    "version": 3
   },
   "file_extension": ".py",
   "mimetype": "text/x-python",
   "name": "python",
   "nbconvert_exporter": "python",
   "pygments_lexer": "ipython3",
   "version": "3.9.6"
  }
 },
 "nbformat": 4,
 "nbformat_minor": 5
}
