{
 "cells": [
  {
   "cell_type": "code",
   "execution_count": 1,
   "id": "dd5a6e50-61ca-4c58-8049-be82fdaa7bb4",
   "metadata": {},
   "outputs": [],
   "source": [
    "import pandas as pd\n",
    "from urllib.request import urlopen\n",
    "from bs4 import BeautifulSoup as soup\n",
    "\n",
    "import os                     # need this to make 'import module work'\n",
    "import sys                    # \n",
    "p = os.path.abspath('../')    # where is module.py?\n",
    "if p not in sys.path:         #\n",
    "    sys.path.append(p)        #\n",
    "\n",
    "from module import scoreboard, playxplay"
   ]
  },
  {
   "cell_type": "code",
   "execution_count": 2,
   "id": "863a563f-2a37-461d-a99c-62afa9d0a5e7",
   "metadata": {},
   "outputs": [],
   "source": [
    "base = 'scores.nbcsports.com/fb/'\n",
    "box = 'boxscore.asp?'\n",
    "pbp = 'pbp.asp?'\n",
    "\n",
    "game = 'gamecode=[date of game]'\n",
    "home_team = '&home=[teamcode]'\n",
    "away_team = '&vis=[teamcode]'\n",
    "\n",
    "# if game is over = '&final=true#'\n",
    "# if game is not over ='&meta=true' 0\n",
    "# url = base+game+home_team+away_team"
   ]
  },
  {
   "cell_type": "code",
   "execution_count": 3,
   "id": "b13a5482-47ce-4c37-a7a8-ef9de33e7bf1",
   "metadata": {},
   "outputs": [],
   "source": [
    "box_score_url = \"https://scores.nbcsports.com/fb/boxscore.asp?gamecode=20211206002&home=2&vis=17&meta=true&final=true#\"\n",
    "box_score_html = urlopen(box_score_url)\n",
    "game = soup(box_score_html)\n",
    "\n",
    "play_by_play_url = \"https://scores.nbcsports.com/fb/pbp.asp?gamecode=20211206002&home=2&vis=17\"\n",
    "play_by_play_html = urlopen(play_by_play_url)\n",
    "play = soup(play_by_play_html)"
   ]
  },
  {
   "cell_type": "code",
   "execution_count": 4,
   "id": "75126dca-c5a1-49d8-8bf4-a117369fd13f",
   "metadata": {},
   "outputs": [
    {
     "name": "stdout",
     "output_type": "stream",
     "text": [
      "The final score is New England 14, Buffalo 10.\n"
     ]
    }
   ],
   "source": [
    "scoreboard(game)    "
   ]
  },
  {
   "cell_type": "code",
   "execution_count": 5,
   "id": "4e6d04f3-ecc4-44fa-acda-eb0584b89447",
   "metadata": {},
   "outputs": [
    {
     "name": "stdout",
     "output_type": "stream",
     "text": [
      "There have been 148 plays in the game so far.\n"
     ]
    }
   ],
   "source": [
    "playxplay(play)"
   ]
  },
  {
   "cell_type": "code",
   "execution_count": null,
   "id": "8cbbe96f-0686-414d-b88b-1267235d96e4",
   "metadata": {},
   "outputs": [],
   "source": []
  },
  {
   "cell_type": "markdown",
   "id": "54a4c7c7-28c3-4017-a575-f3a979d527a2",
   "metadata": {},
   "source": [
    "visitng team, home team, date | team, home stadium"
   ]
  }
 ],
 "metadata": {
  "kernelspec": {
   "display_name": "Python 3 (ipykernel)",
   "language": "python",
   "name": "python3"
  },
  "language_info": {
   "codemirror_mode": {
    "name": "ipython",
    "version": 3
   },
   "file_extension": ".py",
   "mimetype": "text/x-python",
   "name": "python",
   "nbconvert_exporter": "python",
   "pygments_lexer": "ipython3",
   "version": "3.9.6"
  }
 },
 "nbformat": 4,
 "nbformat_minor": 5
}
