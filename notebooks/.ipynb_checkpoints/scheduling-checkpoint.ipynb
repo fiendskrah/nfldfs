{
 "cells": [
  {
   "cell_type": "markdown",
   "id": "27bffd54-58ef-4d8c-aef4-284c34172ae1",
   "metadata": {},
   "source": [
    "visitng team, home team, date | team, home stadium"
   ]
  },
  {
   "cell_type": "code",
   "execution_count": null,
   "id": "f77ee5bc-a559-44af-990e-e72528404c2e",
   "metadata": {},
   "outputs": [],
   "source": [
    "import pandas as pd\n",
    "from urllib.request import urlopen\n",
    "from bs4 import BeautifulSoup as soup\n",
    "\n",
    "url = \"https://scores.nbcsports.com/fb/pbp.asp?gamecode=20211206002&home=2&vis=17\"      \n",
    "html = urlopen(url)\n",
    "game = soup(html)\n",
    "# this is our soup object, containing all html data for this game "
   ]
  }
 ],
 "metadata": {
  "kernelspec": {
   "display_name": "Python 3 (ipykernel)",
   "language": "python",
   "name": "python3"
  },
  "language_info": {
   "codemirror_mode": {
    "name": "ipython",
    "version": 3
   },
   "file_extension": ".py",
   "mimetype": "text/x-python",
   "name": "python",
   "nbconvert_exporter": "python",
   "pygments_lexer": "ipython3",
   "version": "3.9.6"
  }
 },
 "nbformat": 4,
 "nbformat_minor": 5
}
