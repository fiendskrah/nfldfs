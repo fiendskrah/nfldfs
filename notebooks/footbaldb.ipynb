{
 "cells": [
  {
   "cell_type": "markdown",
   "id": "408cf4cd-b0a0-438f-84ca-9e2c4cb4cee4",
   "metadata": {},
   "source": [
    "footballdb.com returns an HTTP error 403: forbidden "
   ]
  },
  {
   "cell_type": "code",
   "execution_count": 1,
   "id": "8e51f4a5-e287-4970-892e-9b1345add958",
   "metadata": {},
   "outputs": [],
   "source": [
    "import pandas as pd"
   ]
  },
  {
   "cell_type": "code",
   "execution_count": 2,
   "id": "bf07a4e7-c54d-4e1a-aa55-eacfeaabef34",
   "metadata": {},
   "outputs": [],
   "source": [
    "from urllib.request import urlopen"
   ]
  },
  {
   "cell_type": "code",
   "execution_count": 36,
   "id": "570669ce-93d4-47b5-928e-24da8f9873f3",
   "metadata": {},
   "outputs": [],
   "source": [
    "from bs4 import BeautifulSoup as soup"
   ]
  },
  {
   "cell_type": "code",
   "execution_count": 4,
   "id": "edca3f55-a2f2-4c39-bd0c-2046c5575b1a",
   "metadata": {},
   "outputs": [],
   "source": [
    "url = \"https://www.packers.com/team/players-roster/\""
   ]
  },
  {
   "cell_type": "code",
   "execution_count": 5,
   "id": "66e1c5c4-fa7b-4e02-8254-7b5c35546278",
   "metadata": {},
   "outputs": [],
   "source": [
    "html = urlopen(url)"
   ]
  },
  {
   "cell_type": "code",
   "execution_count": 6,
   "id": "3a307575-163d-4036-b10b-7acefd4f4501",
   "metadata": {},
   "outputs": [],
   "source": [
    "roster = soup(html)"
   ]
  },
  {
   "cell_type": "code",
   "execution_count": 40,
   "id": "096744e6-fd07-44db-acc6-cc7b17254470",
   "metadata": {},
   "outputs": [],
   "source": [
    "player_names = roster.findAll('span', attrs={'class': \"nfl-o-roster__player-name\"})"
   ]
  },
  {
   "cell_type": "code",
   "execution_count": 61,
   "id": "227966c0-e768-404d-bedc-a7b6ae263cfb",
   "metadata": {},
   "outputs": [
    {
     "data": {
      "text/plain": [
       "'Aaron Rodgers'"
      ]
     },
     "execution_count": 61,
     "metadata": {},
     "output_type": "execute_result"
    }
   ],
   "source": [
    "player_names[34].text"
   ]
  },
  {
   "cell_type": "code",
   "execution_count": null,
   "id": "b9a26185-ead5-478e-8b45-0a5a2741ffd7",
   "metadata": {},
   "outputs": [],
   "source": []
  },
  {
   "cell_type": "code",
   "execution_count": 25,
   "id": "f2c0241c-8f3a-41ce-a726-a6fd2ffc5f74",
   "metadata": {},
   "outputs": [],
   "source": [
    "column_headers = [i.getText() for i in column_headers.findAll('th')]"
   ]
  },
  {
   "cell_type": "code",
   "execution_count": null,
   "id": "71935fa1-e66a-4cb1-8ae1-aad10030be67",
   "metadata": {},
   "outputs": [],
   "source": []
  },
  {
   "cell_type": "code",
   "execution_count": null,
   "id": "fad08a3a-6ece-43e0-9812-cdc5f73e3fa3",
   "metadata": {},
   "outputs": [],
   "source": []
  },
  {
   "cell_type": "code",
   "execution_count": null,
   "id": "4b7e1ddd-1d3a-4d91-956f-e19b8c3531ba",
   "metadata": {},
   "outputs": [],
   "source": [
    "fips = webpage[1]  # selecting which table I want\n",
    "fips['FIPS code[5]'] = fips['FIPS code[5]'].apply(lambda x: '{0:0>3}'.format(x)) # front filling the fips codes with leading zeroes (\"65 to 065\")\n",
    "fips['FIPS code[5]'] = '06' + fips['FIPS code[5]'].astype(str)\n",
    "fips = fips.rename(columns={\"FIPS code[5]\" : \"geoid\", \"County\" : \"name\"}) # renaming column to merge with the county geometries\n",
    "names = fips[['name', 'geoid']].reset_index(drop=True) # sclicing only the columns I needwWW"
   ]
  }
 ],
 "metadata": {
  "kernelspec": {
   "display_name": "Python 3 (ipykernel)",
   "language": "python",
   "name": "python3"
  },
  "language_info": {
   "codemirror_mode": {
    "name": "ipython",
    "version": 3
   },
   "file_extension": ".py",
   "mimetype": "text/x-python",
   "name": "python",
   "nbconvert_exporter": "python",
   "pygments_lexer": "ipython3",
   "version": "3.9.6"
  }
 },
 "nbformat": 4,
 "nbformat_minor": 5
}
