{
 "cells": [
  {
   "cell_type": "code",
   "execution_count": 1,
   "id": "c11f104f-1e10-4a14-98f3-11c2954a9ed7",
   "metadata": {},
   "outputs": [],
   "source": [
    "import pandas as pd\n",
    "from urllib.request import urlopen\n",
    "from bs4 import BeautifulSoup as soup"
   ]
  },
  {
   "cell_type": "code",
   "execution_count": 2,
   "id": "3c8f698a-d833-4958-b0bd-6fd668cb6d27",
   "metadata": {},
   "outputs": [],
   "source": [
    "url = \"https://scores.nbcsports.com/fb/pbp.asp?gamecode=20211206002&home=2&vis=17\"      "
   ]
  },
  {
   "cell_type": "code",
   "execution_count": 3,
   "id": "f65f79fa-c669-4b3f-80ff-4776d5d540ed",
   "metadata": {},
   "outputs": [],
   "source": [
    "html = urlopen(url)"
   ]
  },
  {
   "cell_type": "code",
   "execution_count": 4,
   "id": "9e219fad-215f-4a90-944c-b3eee4aa8003",
   "metadata": {},
   "outputs": [],
   "source": [
    "game = soup(html)\n",
    "# this is our soup object, containing all html data for this game "
   ]
  },
  {
   "cell_type": "code",
   "execution_count": 5,
   "id": "b6fcc60a-9490-4e2f-8420-48f1f3a25401",
   "metadata": {},
   "outputs": [
    {
     "name": "stdout",
     "output_type": "stream",
     "text": [
      "There have been 148 plays in the game so far.\n"
     ]
    }
   ],
   "source": [
    "plays_list = []\n",
    "plays = game.findAll('div', attrs={'class':\"shsPlayDetails\"})\n",
    "for play in plays:\n",
    "    plays = \"(\".join(play.text.split('('))\n",
    "    plays_list.append(plays)\n",
    "print(f\"There have been {len(plays_list)} plays in the game so far.\")"
   ]
  },
  {
   "cell_type": "code",
   "execution_count": 6,
   "id": "fe40af1a-059f-41ad-a590-1c713b4d61eb",
   "metadata": {},
   "outputs": [
    {
     "data": {
      "text/plain": [
       "148"
      ]
     },
     "execution_count": 6,
     "metadata": {},
     "output_type": "execute_result"
    }
   ],
   "source": [
    "len(plays_list)"
   ]
  },
  {
   "cell_type": "code",
   "execution_count": 7,
   "id": "8a5281ce-cd98-480e-9ce4-6ee9e7c286e1",
   "metadata": {},
   "outputs": [],
   "source": [
    "plays_list = reversed(plays_list)"
   ]
  },
  {
   "cell_type": "code",
   "execution_count": 8,
   "id": "6ef2e71a-74ba-45fd-b704-cc497fa00a0b",
   "metadata": {},
   "outputs": [],
   "source": [
    "def playxplay(game):\n",
    "    plays_list = []\n",
    "    plays = game.findAll('div', attrs={'class':\"shsPlayDetails\"})\n",
    "    for play in plays:\n",
    "        plays = \"(\".join(play.text.split('('))\n",
    "        plays_list.append(plays)\n",
    "    print(f\"There have been {len(plays_list)} plays in the game so far.\")"
   ]
  },
  {
   "cell_type": "code",
   "execution_count": 9,
   "id": "04792b02-0b1d-4777-ae46-16cbdb845d4e",
   "metadata": {},
   "outputs": [
    {
     "name": "stdout",
     "output_type": "stream",
     "text": [
      "(15:00) Tyler Bass kicks off to the endzone. Touchback.\n",
      "(15:00) Damien Harris rush up the middle for 2 yards to the NE27. Tackled by Matt Milano.\n",
      "(14:21) Damien Harris rush to the right for 4 yards to the NE31. Tackled by Tyrel Dodson.\n",
      "(13:38) Mac Jones rush for no gain to the NE31. FUMBLE, recovered by NE (Damien Harris).\n",
      "(12:55) Jake Bailey punts for 36 yards to Buf40. Micah Hyde return for 8 yards to Buf48. Tackled by Cody Davis.\n",
      "(12:46) Devin Singletary rush to the left for 3 yards to the NE49. Tackled by Adrian Phillips and Dont'a Hightower.\n",
      "(12:10) Devin Singletary rush to the right for no gain to the NE49. Tackled by Davon Godchaux.\n",
      "(11:30) Josh Allen incomplete pass to the left intended for Dawson Knox.\n",
      "(11:26) Matt Haack punts for 49 yards to NE0. Touchback.\n",
      "(11:16) Damien Harris rush to the right for 2 yards to the NE22. Tackled by Ed Oliver.\n",
      "(10:36) Damien Harris rush up the middle for 4 yards to the NE26. Tackled by Greg Rousseau.\n",
      "(9:57) Brandon Bolden rush to the right for a loss of 1 yard to the NE25. Tackled by Greg Rousseau and Dane Jackson.\n",
      "(9:15) Jake Bailey punts for 15 yards to NE40. No return.\n",
      "(9:09) Josh Allen pass to the right to Emmanuel Sanders for a loss of 3 yards to the NE43. Tackled by J.C. Jackson and Myles Bryant.\n",
      "(8:29) Devin Singletary rush to the right for 4 yards to the NE39. Tackled by Davon Godchaux.\n",
      "(7:52) Penalty: Holding (Return) on New England (Matt Judon) 5 yards.\n",
      "(7:38) Josh Allen pass to the left to Matt Breida for 5 yards to the NE29. Tackled by J.C. Jackson.\n",
      "(7:02) Josh Allen rush for no gain to the NE29. FUMBLE, recovered by NE (Lawrence Guy).\n",
      "(6:55) Jonnu Smith rush to the left for a loss of 1 yard to the NE30. Tackled by Harrison Phillips and Tremaine Edmunds.\n",
      "(6:15) Nelson Agholor rush to the right for 6 yards to the NE36. Tackled by Greg Rousseau.\n",
      "(5:28) Damien Harris rush to the left for 64 yards for a TOUCHDOWN.\n",
      "(5:18) Brandon Bolden 2 pt rush attempt. Successful.\n",
      "(5:18) Nick Folk kicks off to the endzone. Touchback.\n",
      "(5:18) Josh Allen pass to the right to Stefon Diggs for 8 yards to the Buf33. Tackled by Myles Bryant.\n",
      "(4:46) Devin Singletary rush up the middle for 2 yards to the Buf35. Tackled by Ja'Whaun Bentley and Davon Godchaux.\n",
      "(4:09) Josh Allen rush up the middle for 2 yards to the Buf37. Tackled by Matt Judon.\n",
      "(3:34) Devin Singletary rush to the left for 1 yard to the Buf38. Tackled by Davon Godchaux.\n",
      "(2:51) Penalty: Holding on Buffalo (Spencer Brown) -10 yards.\n",
      "(2:24) Josh Allen incomplete pass to the left intended for Emmanuel Sanders.\n",
      "(2:19) Matt Haack punts for 54 yards to NE18. N'Keal Harry - no return. FUMBLE, recovered by Buf (Siran Neal).\n",
      "(2:07) Josh Allen pass to the right to Gabriel Davis for 14 yards for a TOUCHDOWN.\n",
      "(2:02) Tyler Bass extra point is good.\n",
      "(2:02) Tyler Bass kicks off to the endzone. Touchback.\n",
      "(2:02) Rhamondre Stevenson rush up the middle for 10 yards to the NE35. Tackled by Dane Jackson.\n",
      "(1:22) Mac Jones pass to the right to Jonnu Smith for 12 yards to the NE47. Tackled by Jordan Poyer.\n",
      "(0:43) Rhamondre Stevenson rush up the middle for 6 yards to the Buf47. Tackled by Micah Hyde.\n",
      "(15:00) Rhamondre Stevenson rush up the middle for no gain to the Buf47. Tackled by Harrison Phillips and Jordan Poyer.\n",
      "(14:17) Brandon Bolden rush up the middle for 16 yards to the Buf31. Tackled by Dane Jackson.\n",
      "(13:35) Rhamondre Stevenson rush to the left for 3 yards to the Buf28. Tackled by Tyrel Dodson.\n",
      "(12:53) Rhamondre Stevenson rush to the left for 3 yards to the Buf25. Tackled by Ed Oliver.\n",
      "(12:16) Rhamondre Stevenson rush up the middle for 2 yards to the Buf23. Tackled by Matt Milano and Tremaine Edmunds.\n",
      "(11:31) Nick Folk 41 yard field goal attempt is GOOD.\n",
      "(11:28) Nick Folk kicks off to the endzone. Touchback.\n",
      "(11:24) Zack Moss rush up the middle for 4 yards to the Buf29. Tackled by Carl Davis and Davon Godchaux.\n",
      "(10:45) Zack Moss rush to the right for 4 yards to the Buf33. Tackled by Ja'Whaun Bentley and Davon Godchaux.\n",
      "(10:05) Josh Allen pass to the left to Gabriel Davis for 16 yards to the Buf49. Tackled by Devin McCourty.\n",
      "(9:22) Josh Allen rush up the middle for 5 yards to the NE46. Tackled by Lawrence Guy.\n",
      "(8:36) Matt Breida rush to the right for 3 yards to the NE43. Tackled by Myles Bryant and Ja'Whaun Bentley.\n",
      "(7:58) Zack Moss rush to the right for 3 yards to the NE40. Tackled by Adrian Phillips and Ja'Whaun Bentley.\n",
      "(7:15) Zack Moss rush to the right for 1 yard to the NE39. Tackled by Adrian Phillips and Lawrence Guy.\n",
      "(6:28) Penalty: Delay of Game on Buffalo -5 yards.\n",
      "(6:16) Josh Allen sacked at NE49 for a loss of 5 yards by Daniel Ekuale.\n",
      "(5:30) Josh Allen incomplete pass to the right intended for Dawson Knox defensed by Adrian Phillips.\n",
      "(5:23) Matt Haack punts for 33 yards to NE16. No return.\n",
      "(5:12) Damien Harris rush to the right for a loss of 2 yards to the NE14. Tackled by Carlos Basham Jr..\n",
      "(4:31) New England TIMEOUT.\n",
      "(4:31) Damien Harris rush to the left for a loss of 4 yards to the NE10. Tackled by Micah Hyde.\n",
      "(3:50) Brandon Bolden rush to the left for 10 yards to the NE20. Tackled by Jordan Poyer.\n",
      "(3:10) Jake Bailey punts for 46 yards to Buf34. No return.\n",
      "(3:02) Devin Singletary rush to the right for 1 yard to the Buf35. Tackled by Lawrence Guy.\n",
      "(2:27) Josh Allen pass to the right to Stefon Diggs for 6 yards to the Buf41. Tackled by Adrian Phillips.\n",
      "(2:00) Josh Allen incomplete pass to the right intended for Cole Beasley defensed by Kyle Van Noy.\n",
      "(1:56) Matt Haack punts for 34 yards to NE25. No return.\n",
      "(1:48) Damien Harris rush up the middle for 17 yards to the NE42. Tackled by Dane Jackson.\n",
      "(1:17) Damien Harris rush to the right for 2 yards to the NE44. Tackled by Tyrel Dodson.\n",
      "(0:44) Rhamondre Stevenson rush to the left for 1 yard to the NE45. Tackled by Tyrel Dodson.\n",
      "(0:34) New England TIMEOUT.\n",
      "(0:34) Rhamondre Stevenson rush up the middle for 5 yards to the 50. Tackled by Levi Wallace.\n",
      "(0:07) Buffalo TIMEOUT.\n",
      "(0:07) Jake Bailey punts for 45 yards to Buf5. No return.\n",
      "(15:00) Nick Folk kicks off to the endzone. Touchback.\n",
      "(15:00) Josh Allen pass to the right to Cole Beasley for 11 yards to the Buf36. Tackled by Myles Bryant.\n",
      "(14:33) Devin Singletary rush up the middle for 5 yards to the Buf41. Tackled by Davon Godchaux.\n",
      "(13:56) Josh Allen incomplete pass to the right intended for Emmanuel Sanders.\n",
      "(13:53) Josh Allen incomplete pass to the right intended for Stefon Diggs defensed by J.C. Jackson.\n",
      "(13:49) Matt Haack punts for 59 yards to NE0. Touchback.\n",
      "(13:40) Rhamondre Stevenson rush up the middle for 4 yards to the NE24. Tackled by Greg Rousseau and Jordan Poyer.\n",
      "(12:54) Rhamondre Stevenson rush up the middle for 7 yards to the NE31. Tackled by Dane Jackson.\n",
      "(12:13) Kendrick Bourne rush to the left for 3 yards to the NE34. Tackled by Taron Johnson and Levi Wallace.\n",
      "(11:37) Penalty: Holding on New England (Jonnu Smith) -10 yards.\n",
      "(11:14) Rhamondre Stevenson rush to the right for 4 yards to the NE28. Tackled by Eli Ankou and Harrison Phillips.\n",
      "(10:37) Rhamondre Stevenson rush up the middle for 1 yard to the NE29. Tackled by Harrison Phillips.\n",
      "(9:36) Penalty: False Start on New England (Ja'Whaun Bentley) -5 yards.\n",
      "(9:27) Jake Bailey punts for 39 yards to Buf37. No return.\n",
      "(9:15) Josh Allen pass to the left to Emmanuel Sanders for 19 yards to the NE44. Tackled by Myles Bryant.\n",
      "(8:37) Josh Allen incomplete pass to the left intended for Stefon Diggs.\n",
      "(8:30) Zack Moss rush to the left for 3 yards to the NE41. Tackled by Daniel Ekuale and Ja'Whaun Bentley.\n",
      "(7:50) Josh Allen rush to the right for 6 yards to the NE35. Tackled by Ja'Whaun Bentley. Penalty: Unnecessary Roughness on New England (Myles Bryant) 15 yards.\n",
      "(7:33) Zack Moss rush up the middle for 3 yards to the NE17. Tackled by Deatrich Wise Jr. and Davon Godchaux.\n",
      "(6:49) Josh Allen incomplete pass to the left intended for Gabriel Davis.\n",
      "(6:46) Josh Allen incomplete pass to the right intended for Cole Beasley.\n",
      "(6:39) Tyler Bass 35 yard field goal attempt is GOOD.\n",
      "(6:35) Tyler Bass kicks off to the endzone. Touchback.\n",
      "(6:35) Damien Harris rush to the right for 22 yards to the NE47. Tackled by Micah Hyde.\n",
      "(6:01) Rhamondre Stevenson rush to the left for 11 yards to the Buf42. Tackled by Carlos Basham Jr..\n",
      "(5:18) Rhamondre Stevenson rush to the left for 6 yards to the Buf36. Tackled by Eli Ankou and Jordan Poyer.\n",
      "(4:41) Rhamondre Stevenson rush up the middle for a loss of 1 yard to the Buf37. Tackled by Tremaine Edmunds and Tyrel Dodson.\n",
      "(4:02) Mac Jones rush up the middle for 4 yards to the Buf33. Tackled by Star Lotulelei.\n",
      "(3:09) Mac Jones rush up the middle for 1 yard to the Buf32. Tackled by Star Lotulelei.\n",
      "(2:29) Buffalo TIMEOUT.\n",
      "(2:29) Rhamondre Stevenson rush up the middle for 1 yard to the Buf31. Tackled by Jordan Poyer and Tremaine Edmunds.\n",
      "(1:54) Rhamondre Stevenson rush to the right for 10 yards to the Buf21. Tackled by Jordan Poyer.\n",
      "(1:17) Rhamondre Stevenson rush to the left for 5 yards to the Buf16. Tackled by Tremaine Edmunds.\n",
      "(0:38) Rhamondre Stevenson rush to the right for 5 yards to the Buf11. Tackled by Jordan Poyer and Micah Hyde.\n",
      "(15:00) Rhamondre Stevenson rush up the middle for a loss of 3 yards to the Buf14. Tackled by Matt Milano.\n",
      "(14:24) Rhamondre Stevenson rush to the left for a loss of 5 yards to the Buf19. Tackled by Matt Milano.\n",
      "(13:46) Brandon Bolden rush to the left for 3 yards to the Buf16. Tackled by A.J. Epenesa.\n",
      "(13:05) Nick Folk 34 yard field goal attempt is GOOD.\n",
      "(13:01) Nick Folk kicks off to the Buf9. Matt Breida return for 27 yards to Buf36. Tackled by Brandon Bolden.\n",
      "(12:54) Josh Allen pass to the left to Dawson Knox for 7 yards to the Buf43. Tackled by Dont'a Hightower.\n",
      "(12:14) Devin Singletary rush up the middle for 2 yards to the Buf45. Tackled by Lawrence Guy.\n",
      "(11:40) Josh Allen pass to the left to Stefon Diggs for 11 yards to the NE44. Tackled by Ja'Whaun Bentley.\n",
      "(11:01) Josh Allen incomplete pass to the left intended for Emmanuel Sanders.\n",
      "(10:54) Josh Allen rush to the right for 21 yards to the NE23. Tackled by Devin McCourty.\n",
      "(10:07) Zack Moss rush up the middle for 3 yards to the NE20. Tackled by Kyle Van Noy and Christian Barmore.\n",
      "(9:27) Josh Allen pass to the left to Zack Moss for 7 yards to the NE13. Tackled by Dont'a Hightower. Penalty: Horse Collar Tackle on New England (Dont'a Hightower) 7 yards.\n",
      "(9:05) Zack Moss rush to the right for no gain to the NE6. Tackled by Davon Godchaux.\n",
      "(8:18) Buffalo TIMEOUT.\n",
      "(8:18) Josh Allen sacked at NE15 for a loss of 9 yards by Matt Judon.\n",
      "(7:33) Josh Allen incomplete pass to the middle intended for Dawson Knox.\n",
      "(7:28) 33 yard field goal attempt by Tyler Bass is NO GOOD.\n",
      "(7:24) Rhamondre Stevenson rush to the left for a loss of 1 yard to the NE22. Tackled by Levi Wallace.\n",
      "(6:51) Mac Jones incomplete pass to the right intended for Nelson Agholor defensed by Dane Jackson.\n",
      "(6:44) Mac Jones pass to the right to Brandon Bolden for 7 yards to the NE29. Tackled by Jerry Hughes and Tremaine Edmunds.\n",
      "(5:56) Jake Bailey punts for 71 yards to Buf0. Touchback.\n",
      "(5:47) Josh Allen pass to the left to Stefon Diggs for 26 yards to the Buf46.\n",
      "(5:05) Josh Allen pass to the left to Zack Moss for 5 yards to the NE49. Tackled by Dont'a Hightower.\n",
      "(4:27) Josh Allen pass to the middle to Dawson Knox for 7 yards to the NE42. Tackled by Dont'a Hightower and Ja'Whaun Bentley.\n",
      "(3:51) Josh Allen incomplete pass to the left intended for Zack Moss.\n",
      "(3:45) Devin Singletary rush to the left for 17 yards to the NE25.\n"
     ]
    }
   ],
   "source": [
    "for play in plays_list:\n",
    "    print(play)"
   ]
  },
  {
   "cell_type": "code",
   "execution_count": 10,
   "id": "4aa7b601-9157-4ef4-b2c6-f53f8a1750da",
   "metadata": {},
   "outputs": [],
   "source": [
    "scores = []\n",
    "scoring_plays_list = ['pass', 'rush', 'field goal', 'INTERCEPTED', 'intended']"
   ]
  },
  {
   "cell_type": "markdown",
   "id": "fbd71170-beff-4d6c-8c59-dfd0f7db210f",
   "metadata": {},
   "source": [
    "check if partial play in plays_list\n",
    "match any element from scoring_plays_list\n",
    "if true:\n",
    "append play to scores"
   ]
  },
  {
   "cell_type": "code",
   "execution_count": 11,
   "id": "6e92ff63-1baf-4bd4-a262-4687463847f1",
   "metadata": {},
   "outputs": [],
   "source": [
    "scores = [match for match in plays_list if scoring_plays_list in match]"
   ]
  },
  {
   "cell_type": "code",
   "execution_count": 12,
   "id": "55be6510-05e4-443f-ae5b-3cc669bc9af0",
   "metadata": {},
   "outputs": [
    {
     "ename": "TypeError",
     "evalue": "'list_reverseiterator' object is not subscriptable",
     "output_type": "error",
     "traceback": [
      "\u001b[0;31m---------------------------------------------------------------------------\u001b[0m",
      "\u001b[0;31mTypeError\u001b[0m                                 Traceback (most recent call last)",
      "\u001b[0;32m/tmp/ipykernel_30495/113027647.py\u001b[0m in \u001b[0;36m<module>\u001b[0;34m\u001b[0m\n\u001b[0;32m----> 1\u001b[0;31m \u001b[0mplays_list\u001b[0m\u001b[0;34m[\u001b[0m\u001b[0;36m0\u001b[0m\u001b[0;34m]\u001b[0m\u001b[0;34m\u001b[0m\u001b[0;34m\u001b[0m\u001b[0m\n\u001b[0m",
      "\u001b[0;31mTypeError\u001b[0m: 'list_reverseiterator' object is not subscriptable"
     ]
    }
   ],
   "source": [
    "plays_list[0]"
   ]
  },
  {
   "cell_type": "code",
   "execution_count": null,
   "id": "6ee29044-7cf3-41ce-8bd8-b4f583d7ca59",
   "metadata": {},
   "outputs": [],
   "source": []
  }
 ],
 "metadata": {
  "kernelspec": {
   "display_name": "Python 3 (ipykernel)",
   "language": "python",
   "name": "python3"
  },
  "language_info": {
   "codemirror_mode": {
    "name": "ipython",
    "version": 3
   },
   "file_extension": ".py",
   "mimetype": "text/x-python",
   "name": "python",
   "nbconvert_exporter": "python",
   "pygments_lexer": "ipython3",
   "version": "3.9.6"
  }
 },
 "nbformat": 4,
 "nbformat_minor": 5
}
