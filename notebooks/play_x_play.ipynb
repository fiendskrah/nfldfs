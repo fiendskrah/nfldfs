{
 "cells": [
  {
   "cell_type": "code",
   "execution_count": 1,
   "id": "c11f104f-1e10-4a14-98f3-11c2954a9ed7",
   "metadata": {},
   "outputs": [],
   "source": [
    "import pandas as pd\n",
    "from urllib.request import urlopen\n",
    "from bs4 import BeautifulSoup as soup\n",
    "from datetime import datetime"
   ]
  },
  {
   "cell_type": "code",
   "execution_count": 2,
   "id": "3c8f698a-d833-4958-b0bd-6fd668cb6d27",
   "metadata": {},
   "outputs": [],
   "source": [
    "url = \"https://scores.nbcsports.com/fb/pbp.asp?gamecode=20211216024&home=24&vis=12&meta=true\"      "
   ]
  },
  {
   "cell_type": "code",
   "execution_count": 3,
   "id": "f65f79fa-c669-4b3f-80ff-4776d5d540ed",
   "metadata": {},
   "outputs": [],
   "source": [
    "html = urlopen(url)"
   ]
  },
  {
   "cell_type": "code",
   "execution_count": 4,
   "id": "9e219fad-215f-4a90-944c-b3eee4aa8003",
   "metadata": {},
   "outputs": [],
   "source": [
    "game = soup(html)\n",
    "# this is our soup object, containing all html data for this game "
   ]
  },
  {
   "cell_type": "code",
   "execution_count": null,
   "id": "b6fcc60a-9490-4e2f-8420-48f1f3a25401",
   "metadata": {},
   "outputs": [],
   "source": [
    "plays_list = []\n",
    "plays = game.findAll('div', attrs={'class':\"shsPlayDetails\"})\n",
    "for play in plays:\n",
    "    plays = \"(\".join(play.text.split('('))\n",
    "    plays_list.append(plays)\n",
    "print(f\"There have been {len(plays_list)} plays in the game so far.\")"
   ]
  },
  {
   "cell_type": "code",
   "execution_count": null,
   "id": "b55a1d7f-46bd-4c79-9fc0-1811e55bc961",
   "metadata": {},
   "outputs": [],
   "source": []
  },
  {
   "cell_type": "code",
   "execution_count": null,
   "id": "fe40af1a-059f-41ad-a590-1c713b4d61eb",
   "metadata": {},
   "outputs": [],
   "source": [
    "len(plays_list)"
   ]
  },
  {
   "cell_type": "code",
   "execution_count": null,
   "id": "8a5281ce-cd98-480e-9ce4-6ee9e7c286e1",
   "metadata": {},
   "outputs": [],
   "source": [
    "plays_list = list(reversed(plays_list))"
   ]
  },
  {
   "cell_type": "code",
   "execution_count": null,
   "id": "fff7b70d-7a74-4476-89da-d91cae77ea9f",
   "metadata": {},
   "outputs": [],
   "source": [
    "df = pd.DataFrame(plays_list, columns=['play'])\n",
    "df['clock'] = df['play'].str.split(')', expand=True)[0].str.replace('(', '')"
   ]
  },
  {
   "cell_type": "code",
   "execution_count": null,
   "id": "2394587b-2daf-4f75-884d-38f6d101ad8c",
   "metadata": {},
   "outputs": [],
   "source": [
    "df.head()"
   ]
  },
  {
   "cell_type": "code",
   "execution_count": null,
   "id": "cbc15a8b-9b33-4cb7-aeda-2a861f3e4ccb",
   "metadata": {},
   "outputs": [],
   "source": []
  },
  {
   "cell_type": "code",
   "execution_count": null,
   "id": "54e5d691-c28b-46fe-900f-d7ea70b1f3ce",
   "metadata": {},
   "outputs": [],
   "source": []
  },
  {
   "cell_type": "code",
   "execution_count": null,
   "id": "1829fa76-6111-42a8-9d91-d2fdbe89b623",
   "metadata": {},
   "outputs": [],
   "source": []
  },
  {
   "cell_type": "code",
   "execution_count": 12,
   "id": "6ef2e71a-74ba-45fd-b704-cc497fa00a0b",
   "metadata": {},
   "outputs": [],
   "source": [
    "def playxplay(game):\n",
    "    plays_list = []\n",
    "    plays = game.findAll('div', attrs={'class':\"shsPlayDetails\"})\n",
    "    for play in plays:\n",
    "        plays = \"(\".join(play.text.split('('))\n",
    "        plays_list.append(plays)\n",
    "    df = pd.DataFrame(plays_list, columns=['play'])\n",
    "    df['clock'] = df['play'].str.split(')', expand=True)[0].str.replace('(', '')\n",
    "    # does not work by itself\n",
    "    return df"
   ]
  },
  {
   "cell_type": "markdown",
   "id": "5169cbcc-ad98-4d6a-88ac-bac44d3bec87",
   "metadata": {},
   "source": []
  },
  {
   "cell_type": "code",
   "execution_count": 13,
   "id": "3fa9e97c-873b-4325-bcdd-d8886ffb7c84",
   "metadata": {},
   "outputs": [],
   "source": [
    "df = playxplay(game)"
   ]
  },
  {
   "cell_type": "code",
   "execution_count": 14,
   "id": "de16fc63-2afd-4035-bc49-6072b677661c",
   "metadata": {},
   "outputs": [
    {
     "data": {
      "text/html": [
       "<div>\n",
       "<style scoped>\n",
       "    .dataframe tbody tr th:only-of-type {\n",
       "        vertical-align: middle;\n",
       "    }\n",
       "\n",
       "    .dataframe tbody tr th {\n",
       "        vertical-align: top;\n",
       "    }\n",
       "\n",
       "    .dataframe thead th {\n",
       "        text-align: right;\n",
       "    }\n",
       "</style>\n",
       "<table border=\"1\" class=\"dataframe\">\n",
       "  <thead>\n",
       "    <tr style=\"text-align: right;\">\n",
       "      <th></th>\n",
       "      <th>play</th>\n",
       "      <th>clock</th>\n",
       "    </tr>\n",
       "  </thead>\n",
       "  <tbody>\n",
       "    <tr>\n",
       "      <th>0</th>\n",
       "      <td>(2:44) Patrick Mahomes pass to the left to Cly...</td>\n",
       "      <td>2:44</td>\n",
       "    </tr>\n",
       "    <tr>\n",
       "      <th>1</th>\n",
       "      <td>(3:15) Patrick Mahomes pass to the right to Ty...</td>\n",
       "      <td>3:15</td>\n",
       "    </tr>\n",
       "    <tr>\n",
       "      <th>2</th>\n",
       "      <td>(3:15) Dustin Hopkins kicks off to the endzone...</td>\n",
       "      <td>3:15</td>\n",
       "    </tr>\n",
       "    <tr>\n",
       "      <th>3</th>\n",
       "      <td>(3:15) Dustin Hopkins extra point is good.</td>\n",
       "      <td>3:15</td>\n",
       "    </tr>\n",
       "    <tr>\n",
       "      <th>4</th>\n",
       "      <td>(3:21) Justin Herbert pass to the right to Jal...</td>\n",
       "      <td>3:21</td>\n",
       "    </tr>\n",
       "  </tbody>\n",
       "</table>\n",
       "</div>"
      ],
      "text/plain": [
       "                                                play clock\n",
       "0  (2:44) Patrick Mahomes pass to the left to Cly...  2:44\n",
       "1  (3:15) Patrick Mahomes pass to the right to Ty...  3:15\n",
       "2  (3:15) Dustin Hopkins kicks off to the endzone...  3:15\n",
       "3         (3:15) Dustin Hopkins extra point is good.  3:15\n",
       "4  (3:21) Justin Herbert pass to the right to Jal...  3:21"
      ]
     },
     "execution_count": 14,
     "metadata": {},
     "output_type": "execute_result"
    }
   ],
   "source": [
    "df.head()"
   ]
  },
  {
   "cell_type": "code",
   "execution_count": null,
   "id": "04792b02-0b1d-4777-ae46-16cbdb845d4e",
   "metadata": {},
   "outputs": [],
   "source": [
    "for play in plays_list:\n",
    "    print(play)"
   ]
  },
  {
   "cell_type": "code",
   "execution_count": null,
   "id": "4aa7b601-9157-4ef4-b2c6-f53f8a1750da",
   "metadata": {},
   "outputs": [],
   "source": [
    "scores = []\n",
    "scoring_plays_list = ['pass', 'rush', 'field goal', 'INTERCEPTED', 'intended']"
   ]
  },
  {
   "cell_type": "markdown",
   "id": "fbd71170-beff-4d6c-8c59-dfd0f7db210f",
   "metadata": {},
   "source": [
    "check if partial play in plays_list\n",
    "match any element from scoring_plays_list\n",
    "if true:\n",
    "append play to scores"
   ]
  },
  {
   "cell_type": "code",
   "execution_count": null,
   "id": "6ee29044-7cf3-41ce-8bd8-b4f583d7ca59",
   "metadata": {},
   "outputs": [],
   "source": []
  }
 ],
 "metadata": {
  "kernelspec": {
   "display_name": "Python 3 (ipykernel)",
   "language": "python",
   "name": "python3"
  },
  "language_info": {
   "codemirror_mode": {
    "name": "ipython",
    "version": 3
   },
   "file_extension": ".py",
   "mimetype": "text/x-python",
   "name": "python",
   "nbconvert_exporter": "python",
   "pygments_lexer": "ipython3",
   "version": "3.9.6"
  }
 },
 "nbformat": 4,
 "nbformat_minor": 5
}
