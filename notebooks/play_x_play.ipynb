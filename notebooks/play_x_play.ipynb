{
 "cells": [
  {
   "cell_type": "code",
   "execution_count": 1,
   "id": "c11f104f-1e10-4a14-98f3-11c2954a9ed7",
   "metadata": {},
   "outputs": [],
   "source": [
    "import pandas as pd\n",
    "from urllib.request import urlopen\n",
    "from bs4 import BeautifulSoup as soup"
   ]
  },
  {
   "cell_type": "code",
   "execution_count": 2,
   "id": "3c8f698a-d833-4958-b0bd-6fd668cb6d27",
   "metadata": {},
   "outputs": [],
   "source": [
    "url = \"https://scores.nbcsports.com/fb/pbp.asp?gamecode=20211206002&home=2&vis=17\"      "
   ]
  },
  {
   "cell_type": "code",
   "execution_count": 3,
   "id": "f65f79fa-c669-4b3f-80ff-4776d5d540ed",
   "metadata": {},
   "outputs": [],
   "source": [
    "html = urlopen(url)"
   ]
  },
  {
   "cell_type": "code",
   "execution_count": 4,
   "id": "9e219fad-215f-4a90-944c-b3eee4aa8003",
   "metadata": {},
   "outputs": [],
   "source": [
    "game = soup(html)\n",
    "# this is our soup object, containing all html data for this game "
   ]
  },
  {
   "cell_type": "code",
   "execution_count": 5,
   "id": "b6fcc60a-9490-4e2f-8420-48f1f3a25401",
   "metadata": {},
   "outputs": [
    {
     "name": "stdout",
     "output_type": "stream",
     "text": [
      "There have been 148 plays in the game so far.\n"
     ]
    }
   ],
   "source": [
    "plays_list = []\n",
    "plays = game.findAll('div', attrs={'class':\"shsPlayDetails\"})\n",
    "for play in plays:\n",
    "    plays = \"(\".join(play.text.split('('))\n",
    "    plays_list.append(plays)\n",
    "print(f\"There have been {len(plays_list)} plays in the game so far.\")"
   ]
  },
  {
   "cell_type": "code",
   "execution_count": 6,
   "id": "fe40af1a-059f-41ad-a590-1c713b4d61eb",
   "metadata": {},
   "outputs": [
    {
     "data": {
      "text/plain": [
       "148"
      ]
     },
     "execution_count": 6,
     "metadata": {},
     "output_type": "execute_result"
    }
   ],
   "source": [
    "len(plays_list)"
   ]
  },
  {
   "cell_type": "code",
   "execution_count": 7,
   "id": "8a5281ce-cd98-480e-9ce4-6ee9e7c286e1",
   "metadata": {},
   "outputs": [],
   "source": [
    "plays_list = reversed(plays_list)"
   ]
  },
  {
   "cell_type": "code",
   "execution_count": 8,
   "id": "6ef2e71a-74ba-45fd-b704-cc497fa00a0b",
   "metadata": {},
   "outputs": [],
   "source": [
    "def playxplay(game):\n",
    "    plays_list = []\n",
    "    plays = game.findAll('div', attrs={'class':\"shsPlayDetails\"})\n",
    "    for play in plays:\n",
    "        plays = \"(\".join(play.text.split('('))\n",
    "        plays_list.append(plays)\n",
    "    print(f\"There have been {len(plays_list)} plays in the game so far.\")"
   ]
  },
  {
   "cell_type": "code",
   "execution_count": null,
   "id": "04792b02-0b1d-4777-ae46-16cbdb845d4e",
   "metadata": {},
   "outputs": [
    {
     "ename": "NameError",
     "evalue": "name 'playxplay' is not defined",
     "output_type": "error",
     "traceback": [
      "\u001b[0;31m---------------------------------------------------------------------------\u001b[0m",
      "\u001b[0;31mNameError\u001b[0m                                 Traceback (most recent call last)",
      "\u001b[0;32m/tmp/ipykernel_228356/2230494526.py\u001b[0m in \u001b[0;36m<module>\u001b[0;34m\u001b[0m\n\u001b[0;32m----> 1\u001b[0;31m \u001b[0mplays_list\u001b[0m \u001b[0;34m=\u001b[0m \u001b[0mplayxplay\u001b[0m\u001b[0;34m(\u001b[0m\u001b[0mgame\u001b[0m\u001b[0;34m)\u001b[0m\u001b[0;34m\u001b[0m\u001b[0;34m\u001b[0m\u001b[0m\n\u001b[0m",
      "\u001b[0;31mNameError\u001b[0m: name 'playxplay' is not defined"
     ]
    }
   ],
   "source": [
    "for play in plays_list:\n",
    "    print(play)"
   ]
  },
  {
   "cell_type": "code",
   "execution_count": 10,
   "id": "4aa7b601-9157-4ef4-b2c6-f53f8a1750da",
   "metadata": {},
   "outputs": [],
   "source": [
    "scores = []\n",
    "scoring_plays_list = ['pass', 'rush', 'field goal', 'INTERCEPTED', 'intended']"
   ]
  },
  {
   "cell_type": "markdown",
   "id": "fbd71170-beff-4d6c-8c59-dfd0f7db210f",
   "metadata": {},
   "source": [
    "check if partial play in plays_list\n",
    "match any element from scoring_plays_list\n",
    "if true:\n",
    "append play to scores"
   ]
  },
  {
   "cell_type": "code",
   "execution_count": 11,
   "id": "6e92ff63-1baf-4bd4-a262-4687463847f1",
   "metadata": {},
   "outputs": [],
   "source": [
    "scores = [match for match in plays_list if scoring_plays_list in match]"
   ]
  },
  {
   "cell_type": "code",
   "execution_count": 12,
   "id": "55be6510-05e4-443f-ae5b-3cc669bc9af0",
   "metadata": {},
   "outputs": [
    {
     "ename": "TypeError",
     "evalue": "'list_reverseiterator' object is not subscriptable",
     "output_type": "error",
     "traceback": [
      "\u001b[0;31m---------------------------------------------------------------------------\u001b[0m",
      "\u001b[0;31mTypeError\u001b[0m                                 Traceback (most recent call last)",
      "\u001b[0;32m/tmp/ipykernel_30495/113027647.py\u001b[0m in \u001b[0;36m<module>\u001b[0;34m\u001b[0m\n\u001b[0;32m----> 1\u001b[0;31m \u001b[0mplays_list\u001b[0m\u001b[0;34m[\u001b[0m\u001b[0;36m0\u001b[0m\u001b[0;34m]\u001b[0m\u001b[0;34m\u001b[0m\u001b[0;34m\u001b[0m\u001b[0m\n\u001b[0m",
      "\u001b[0;31mTypeError\u001b[0m: 'list_reverseiterator' object is not subscriptable"
     ]
    }
   ],
   "source": [
    "plays_list[0]"
   ]
  },
  {
   "cell_type": "code",
   "execution_count": null,
   "id": "6ee29044-7cf3-41ce-8bd8-b4f583d7ca59",
   "metadata": {},
   "outputs": [],
   "source": []
  }
 ],
 "metadata": {
  "kernelspec": {
   "display_name": "Python 3 (ipykernel)",
   "language": "python",
   "name": "python3"
  },
  "language_info": {
   "codemirror_mode": {
    "name": "ipython",
    "version": 3
   },
   "file_extension": ".py",
   "mimetype": "text/x-python",
   "name": "python",
   "nbconvert_exporter": "python",
   "pygments_lexer": "ipython3",
   "version": "3.9.6"
  }
 },
 "nbformat": 4,
 "nbformat_minor": 5
}
