{
 "cells": [
  {
   "cell_type": "markdown",
   "id": "a3875da4-9af3-4ce6-ab35-2bbd9a00a75d",
   "metadata": {},
   "source": [
    "We use beautifulsoup to parse a webpage containing box scores for a completed football game on scores.nbcsports.com"
   ]
  },
  {
   "cell_type": "code",
   "execution_count": 2,
   "id": "b13bd02a-1cbd-4a50-aaeb-b7c9255890be",
   "metadata": {},
   "outputs": [],
   "source": [
    "import pandas as pd\n",
    "from urllib.request import urlopen\n",
    "from bs4 import BeautifulSoup as soup"
   ]
  },
  {
   "cell_type": "code",
   "execution_count": 3,
   "id": "61c54306-f0d0-4ca5-add7-623c42647a07",
   "metadata": {},
   "outputs": [],
   "source": [
    "url = \"https://scores.nbcsports.com/fb/boxscore.asp?gamecode=20211121016&home=16&vis=9&final=true\"\n",
    "# packers vs vikings"
   ]
  },
  {
   "cell_type": "code",
   "execution_count": 4,
   "id": "cfb746a4-984f-42e3-b640-86d07755a48a",
   "metadata": {},
   "outputs": [],
   "source": [
    "html = urlopen(url)"
   ]
  },
  {
   "cell_type": "code",
   "execution_count": 5,
   "id": "ca02a6a6-a614-40ba-8360-e0e50f851e94",
   "metadata": {},
   "outputs": [],
   "source": [
    "game = soup(html)\n",
    "# this is our soup object, containing all html data for this game "
   ]
  },
  {
   "cell_type": "markdown",
   "id": "23a58c84-aa8e-4beb-b59f-7d5deb7a026e",
   "metadata": {
    "tags": []
   },
   "source": [
    "## This section has working code"
   ]
  },
  {
   "cell_type": "code",
   "execution_count": 6,
   "id": "1a00e24e-1cd2-411e-a7ff-2a6c61bfa9ba",
   "metadata": {},
   "outputs": [
    {
     "name": "stdout",
     "output_type": "stream",
     "text": [
      "The final score is Green Bay 31, Minnesota 34.\n"
     ]
    }
   ],
   "source": [
    "scoreboard = game.findAll('tr', attrs={'class':\"shsMastScoreboardRow\"})\n",
    "team_name0 = scoreboard[0].td.text\n",
    "quarter_scores0 = scoreboard[0].findAll('td', attrs={'class':\"shsTotD\"})\n",
    "final_score0 = quarter_scores0[4].text\n",
    "team_name1 = scoreboard[1].td.text\n",
    "quarter_scores1 = scoreboard[1].findAll('td', attrs={'class':\"shsTotD\"})\n",
    "final_score1 = quarter_scores1[4].text\n",
    "a=list((team_name0, final_score0, team_name1, final_score1))\n",
    "print(f\"The final score is {a[0]} {a[1]}, {a[2]} {a[3]}.\")"
   ]
  },
  {
   "cell_type": "markdown",
   "id": "50b51a3e-f72c-4a51-987c-0d3934f1a252",
   "metadata": {},
   "source": [
    "Now we can call the scores in each quarter, the final scores, and the names of each team in a specific game\n",
    "\n",
    "Next tasks:\n",
    "\n",
    "    - create method/function to build url to call specific game for `scoreboard`\n",
    "    - scrape and print total yardage for each team in a specific game\n",
    "    _ scrape and print yardage per player in a specific game"
   ]
  },
  {
   "cell_type": "markdown",
   "id": "13963ee2-c66e-48cc-9c55-219d59869dc4",
   "metadata": {},
   "source": [
    "## This section has code in progress"
   ]
  },
  {
   "cell_type": "code",
   "execution_count": 11,
   "id": "5960b940-2af1-403e-9e0c-9fe78c98ff10",
   "metadata": {},
   "outputs": [],
   "source": [
    "result = []\n",
    "scoreboard = game.findAll('tr', attrs={'class':\"shsMastScoreboardRow\"})\n",
    "for td in scoreboard:\n",
    "    result.extend(td.findAll(class_='shsTotd'))"
   ]
  },
  {
   "cell_type": "code",
   "execution_count": 12,
   "id": "312ec9e9-00cb-48ac-b4b0-c09721abed7e",
   "metadata": {},
   "outputs": [
    {
     "data": {
      "text/plain": [
       "<tr class=\"shsMastScoreboardRow\">\n",
       "<td class=\"shsNamD\" nowrap=\"true\"><span class=\"shsLogo\"><span class=\"shsNFLteam9sm_trans\"></span></span><a href=\"/fb/teamstats.asp?team=09\">Green Bay</a></td>\n",
       "<td class=\"shsTotD\">3</td>\n",
       "<td class=\"shsTotD\">7</td>\n",
       "<td class=\"shsTotD\">7</td>\n",
       "<td class=\"shsTotD\">14</td>\n",
       "<td class=\"shsTotD\">31</td>\n",
       "</tr>"
      ]
     },
     "execution_count": 12,
     "metadata": {},
     "output_type": "execute_result"
    }
   ],
   "source": [
    "scoreboard[0]\n",
    "# only for 1 team"
   ]
  },
  {
   "cell_type": "code",
   "execution_count": null,
   "id": "eaea81b2-221e-4479-9728-c7c0b65b686a",
   "metadata": {},
   "outputs": [],
   "source": []
  },
  {
   "cell_type": "code",
   "execution_count": null,
   "id": "6e38d66e-036a-44ec-bf23-5ebbc7280d44",
   "metadata": {},
   "outputs": [],
   "source": []
  },
  {
   "cell_type": "code",
   "execution_count": null,
   "id": "299da6e6-7170-4e54-9f27-fa7ebd412e4d",
   "metadata": {},
   "outputs": [],
   "source": [
    "b=[]\n",
    "team1 = str(scoreboard[0].td.text)\n",
    "team2 = str(scoreboard[1].td.text)\n",
    "for team in b:\n",
    "    b.extend(team)"
   ]
  },
  {
   "cell_type": "code",
   "execution_count": null,
   "id": "45b9b097-a734-45ec-843f-9d1ea0737666",
   "metadata": {},
   "outputs": [],
   "source": [
    "b"
   ]
  },
  {
   "cell_type": "code",
   "execution_count": null,
   "id": "71b3f3d7-a0f8-4a8c-8fe2-02a6f92e3df8",
   "metadata": {},
   "outputs": [],
   "source": [
    "team1"
   ]
  },
  {
   "cell_type": "code",
   "execution_count": null,
   "id": "50abcf61-b4e6-4d7f-8f55-e150cec6c6df",
   "metadata": {},
   "outputs": [],
   "source": [
    "b.extend([team1])"
   ]
  },
  {
   "cell_type": "code",
   "execution_count": null,
   "id": "46fdf93d-9d06-4721-8616-ce81df34b25f",
   "metadata": {},
   "outputs": [],
   "source": [
    "b"
   ]
  },
  {
   "cell_type": "code",
   "execution_count": null,
   "id": "50ecfce8-f2bd-4600-8b87-7e44d180fca1",
   "metadata": {},
   "outputs": [],
   "source": []
  }
 ],
 "metadata": {
  "kernelspec": {
   "display_name": "Python 3 (ipykernel)",
   "language": "python",
   "name": "python3"
  },
  "language_info": {
   "codemirror_mode": {
    "name": "ipython",
    "version": 3
   },
   "file_extension": ".py",
   "mimetype": "text/x-python",
   "name": "python",
   "nbconvert_exporter": "python",
   "pygments_lexer": "ipython3",
   "version": "3.9.6"
  }
 },
 "nbformat": 4,
 "nbformat_minor": 5
}
