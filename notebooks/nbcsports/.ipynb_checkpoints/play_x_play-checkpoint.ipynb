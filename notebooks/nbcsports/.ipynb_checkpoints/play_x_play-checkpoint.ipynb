{
 "cells": [
  {
   "cell_type": "code",
   "execution_count": 1,
   "id": "c11f104f-1e10-4a14-98f3-11c2954a9ed7",
   "metadata": {},
   "outputs": [],
   "source": [
    "import pandas as pd\n",
    "from urllib.request import urlopen\n",
    "from bs4 import BeautifulSoup as soup"
   ]
  },
  {
   "cell_type": "code",
   "execution_count": 2,
   "id": "3c8f698a-d833-4958-b0bd-6fd668cb6d27",
   "metadata": {},
   "outputs": [],
   "source": [
    "url = \"https://scores.nbcsports.com/fb/pbp.asp?gamecode=20211128033&home=33&vis=5\""
   ]
  },
  {
   "cell_type": "code",
   "execution_count": 3,
   "id": "f65f79fa-c669-4b3f-80ff-4776d5d540ed",
   "metadata": {},
   "outputs": [],
   "source": [
    "html = urlopen(url)"
   ]
  },
  {
   "cell_type": "code",
   "execution_count": 4,
   "id": "9e219fad-215f-4a90-944c-b3eee4aa8003",
   "metadata": {},
   "outputs": [],
   "source": [
    "game = soup(html)\n",
    "# this is our soup object, containing all html data for this game "
   ]
  },
  {
   "cell_type": "code",
   "execution_count": 22,
   "id": "b6fcc60a-9490-4e2f-8420-48f1f3a25401",
   "metadata": {},
   "outputs": [
    {
     "name": "stdout",
     "output_type": "stream",
     "text": [
      "There have been 92 plays in the game so far.\n"
     ]
    }
   ],
   "source": [
    "plays_list = []\n",
    "plays = game.findAll('div', attrs={'class':\"shsPlayDetails\"})\n",
    "for play in plays:\n",
    "    plays = \"(\".join(play.text.split('('))\n",
    "    plays_list.append(plays)\n",
    "print(f\"There have been {len(plays_list)} plays in the game so far.\")"
   ]
  },
  {
   "cell_type": "code",
   "execution_count": 23,
   "id": "fe40af1a-059f-41ad-a590-1c713b4d61eb",
   "metadata": {},
   "outputs": [
    {
     "data": {
      "text/plain": [
       "92"
      ]
     },
     "execution_count": 23,
     "metadata": {},
     "output_type": "execute_result"
    }
   ],
   "source": [
    "len(plays_list)"
   ]
  },
  {
   "cell_type": "code",
   "execution_count": 49,
   "id": "4aa7b601-9157-4ef4-b2c6-f53f8a1750da",
   "metadata": {},
   "outputs": [],
   "source": [
    "scores = []\n",
    "scoring_plays_list = ['pass', 'rush', 'field goal', 'INTERCEPTED']"
   ]
  },
  {
   "cell_type": "markdown",
   "id": "fbd71170-beff-4d6c-8c59-dfd0f7db210f",
   "metadata": {},
   "source": [
    "check if partial play in plays_list\n",
    "match any element from scoring_plays_list\n",
    "if true:\n",
    "append play to scores"
   ]
  },
  {
   "cell_type": "code",
   "execution_count": 61,
   "id": "6e92ff63-1baf-4bd4-a262-4687463847f1",
   "metadata": {},
   "outputs": [
    {
     "ename": "TypeError",
     "evalue": "'in <string>' requires string as left operand, not list",
     "output_type": "error",
     "traceback": [
      "\u001b[0;31m---------------------------------------------------------------------------\u001b[0m",
      "\u001b[0;31mTypeError\u001b[0m                                 Traceback (most recent call last)",
      "\u001b[0;32m/tmp/ipykernel_103532/1295978574.py\u001b[0m in \u001b[0;36m<module>\u001b[0;34m\u001b[0m\n\u001b[0;32m----> 1\u001b[0;31m \u001b[0mscores\u001b[0m \u001b[0;34m=\u001b[0m \u001b[0;34m[\u001b[0m\u001b[0mmatch\u001b[0m \u001b[0;32mfor\u001b[0m \u001b[0mmatch\u001b[0m \u001b[0;32min\u001b[0m \u001b[0mplays_list\u001b[0m \u001b[0;32mif\u001b[0m \u001b[0mscoring_plays_list\u001b[0m \u001b[0;32min\u001b[0m \u001b[0mmatch\u001b[0m\u001b[0;34m]\u001b[0m\u001b[0;34m\u001b[0m\u001b[0;34m\u001b[0m\u001b[0m\n\u001b[0m",
      "\u001b[0;32m/tmp/ipykernel_103532/1295978574.py\u001b[0m in \u001b[0;36m<listcomp>\u001b[0;34m(.0)\u001b[0m\n\u001b[0;32m----> 1\u001b[0;31m \u001b[0mscores\u001b[0m \u001b[0;34m=\u001b[0m \u001b[0;34m[\u001b[0m\u001b[0mmatch\u001b[0m \u001b[0;32mfor\u001b[0m \u001b[0mmatch\u001b[0m \u001b[0;32min\u001b[0m \u001b[0mplays_list\u001b[0m \u001b[0;32mif\u001b[0m \u001b[0mscoring_plays_list\u001b[0m \u001b[0;32min\u001b[0m \u001b[0mmatch\u001b[0m\u001b[0;34m]\u001b[0m\u001b[0;34m\u001b[0m\u001b[0;34m\u001b[0m\u001b[0m\n\u001b[0m",
      "\u001b[0;31mTypeError\u001b[0m: 'in <string>' requires string as left operand, not list"
     ]
    }
   ],
   "source": [
    "scores = [match for match in plays_list if scoring_plays_list in match]"
   ]
  },
  {
   "cell_type": "code",
   "execution_count": 19,
   "id": "55be6510-05e4-443f-ae5b-3cc669bc9af0",
   "metadata": {},
   "outputs": [
    {
     "data": {
      "text/plain": [
       "[['(0:01) Lamar Jackson rush for a loss of 1 yard to the Bal29.',\n",
       "  '(0:09) Jamie Gillan punts for 33 yards to Bal30. No return.',\n",
       "  '(0:09) Baltimore TIMEOUT.',\n",
       "  '(0:12) Kareem Hunt rush to the right for 4 yards to the Cle37. Tackled by Tyus Bowser.',\n",
       "  '(0:16) Baker Mayfield incomplete pass to the left intended for Jarvis Landry.',\n",
       "  '(0:21) Baker Mayfield incomplete pass to the middle intended for Kareem Hunt defensed by Justin Madubuike.',\n",
       "  '(0:25) Lamar Jackson pass intended for Mark Andrews INTERCEPTED by Ronnie Harrison Jr.. No return. Tackled by Mark Andrews.',\n",
       "  '(0:32) Penalty: Holding on Baltimore (Alejandro Villanueva) -10 yards.',\n",
       "  '(0:36) Lamar Jackson pass to the left to Marquise Brown for 8 yards to the Cle30.',\n",
       "  '(0:36) Baltimore TIMEOUT.',\n",
       "  '(0:40) Lamar Jackson rush to the right for 5 yards to the Cle38. Tackled by Ronnie Harrison Jr..',\n",
       "  '(0:45) Lamar Jackson pass to the left to Sammy Watkins for 8 yards to the Cle43.',\n",
       "  '(0:53) Baker Mayfield sacked at Bal45 for a loss of 17 yards. FUMBLE, recovered by Bal (Odafe Oweh).',\n",
       "  '(0:56) Baker Mayfield incomplete pass to the right intended for Donovan Peoples-Jones.',\n",
       "  '(1:02) Lamar Jackson pass intended for Mark Andrews INTERCEPTED by Grant Delpit and returned for 5 yards. Tackled by Mark Andrews.',\n",
       "  '(1:02) Chase McLaughlin kicks off to the endzone. Touchback.',\n",
       "  '(1:07) Chase McLaughlin 46 yard field goal attempt is GOOD.',\n",
       "  '(1:11) Baker Mayfield incomplete pass to the middle intended for David Njoku defensed by Brandon Stephens.',\n",
       "  '(1:16) Baker Mayfield incomplete pass to the left intended for David Njoku defensed by Marlon Humphrey.',\n",
       "  '(1:56) Nick Chubb rush to the left for 3 yards to the Bal28. Tackled by Brandon Stephens and Justin Madubuike.',\n",
       "  '(2:00) Baker Mayfield pass to the left to Donovan Peoples-Jones for 4 yards to the Bal31. Tackled by Tavon Young.',\n",
       "  '(2:13) Baker Mayfield pass to the left to Nick Chubb for 7 yards to the Bal35. Tackled by Marlon Humphrey.',\n",
       "  '(2:29) Baker Mayfield pass to the left to Jarvis Landry for 11 yards to the Bal42. Tackled by Marlon Humphrey.',\n",
       "  '(2:41) Lamar Jackson pass intended for Rashod Bateman INTERCEPTED by Denzel Ward and returned for 4 yards. Tackled by Kevin Zeitler and Mark Andrews.',\n",
       "  '(3:04) Lamar Jackson pass to the left to Rashod Bateman for 13 yards to the Bal48. Tackled by Ronnie Harrison Jr..',\n",
       "  '(3:15) Jarvis Landry sacked at Bal35 for a loss of 1 yard by Odafe Oweh. FUMBLE, recovered by Bal (Patrick Queen).',\n",
       "  '(3:53) Baker Mayfield pass to the left to Harrison Bryant for 41 yards to the Bal34. Tackled by Marlon Humphrey and Brandon Stephens.',\n",
       "  '(3:53) Justin Tucker kicks off to the endzone. Touchback.',\n",
       "  '(3:56) Justin Tucker 25 yard field goal attempt is GOOD.',\n",
       "  '(3:56) Penalty: False Start on Baltimore (Kevin Zeitler) -5 yards.',\n",
       "  '(4:00) Lamar Jackson incomplete pass to the left intended for Patrick Ricard defensed by Myles Garrett.',\n",
       "  '(4:38) Latavius Murray rush to the right for no gain to the Cle1. Tackled by Malik Jackson and Myles Garrett.',\n",
       "  '(5:18) Devonta Freeman rush to the right for 2 yards to the Cle1. Tackled by Anthony Walker Jr. and Malik Jackson.',\n",
       "  '(5:59) Devonta Freeman rush to the right for 4 yards to the Cle3. Tackled by John Johnson III.',\n",
       "  '(6:24) Lamar Jackson pass to the middle to Devonta Freeman for 8 yards to the Cle7. Tackled by Jadeveon Clowney.',\n",
       "  '(6:56) Devonta Freeman rush to the left for 5 yards to the Cle15. Tackled by Ronnie Harrison Jr..',\n",
       "  '(7:36) Lamar Jackson rush to the right for 9 yards to the Cle20. Tackled by Anthony Walker Jr. and John Johnson III.',\n",
       "  '(7:42) Lamar Jackson incomplete pass to the right intended for Mark Andrews.',\n",
       "  '(8:29) Lamar Jackson rush to the left for 13 yards to the Cle29. Tackled by Anthony Walker Jr. and Ronnie Harrison Jr..',\n",
       "  '(9:10) Latavius Murray rush to the right for no gain to the Cle42. Tackled by Jadeveon Clowney.',\n",
       "  '(9:46) Latavius Murray rush to the left for 4 yards to the Cle42. Tackled by Ronnie Harrison Jr..',\n",
       "  '(10:16) Lamar Jackson pass to the right to Mark Andrews for 9 yards to the Cle46. Tackled by Jeremiah Owusu-Koramoah.',\n",
       "  '(10:51) Lamar Jackson rush to the left for 1 yard to the Bal45. Tackled by Myles Garrett.',\n",
       "  '(11:17) Lamar Jackson rush up the middle for 3 yards to the Bal44. Tackled by Takkarist McKinley.',\n",
       "  '(11:55) Lamar Jackson pass to the left to Marquise Brown for 6 yards to the Bal41. Tackled by Ronnie Harrison Jr..',\n",
       "  '(12:34) Lamar Jackson rush to the right for no gain to the Bal35. Tackled by Jeremiah Owusu-Koramoah.',\n",
       "  '(12:46) Jamie Gillan punts for 52 yards to Bal13. Devin Duvernay return for 22 yards to Bal35. Tackled by Jamie Gillan.',\n",
       "  '(12:51) Baker Mayfield incomplete pass to the right.',\n",
       "  '(12:58) Baker Mayfield incomplete pass to the left.',\n",
       "  '(13:40) Kareem Hunt rush to the right for a loss of 1 yard to the Cle35. Tackled by Justin Madubuike and Kristian Welch.',\n",
       "  '(14:25) Kareem Hunt rush up the middle for 2 yards to the Cle36. Tackled by Patrick Queen and Broderick Washington.',\n",
       "  '(15:00) Kareem Hunt rush to the right for 2 yards to the Cle34. Tackled by Justin Madubuike.',\n",
       "  '(0:24) Kareem Hunt rush to the left for 7 yards to the Cle32. Tackled by Brandon Stephens.',\n",
       "  '(0:24) Justin Tucker kicks off to the endzone. Touchback.',\n",
       "  '(0:29) Justin Tucker 52 yard field goal attempt is GOOD.',\n",
       "  '(1:12) Lamar Jackson pass to the middle to Rashod Bateman for 5 yards to the Cle34. Tackled by Greg Newsome II.',\n",
       "  '(1:19) Lamar Jackson incomplete pass to the right intended for Marquise Brown.',\n",
       "  \"(1:59) Ty'Son Williams rush to the right for 1 yard to the Cle39. Tackled by Anthony Walker Jr. and Sheldon Day.\",\n",
       "  '(2:26) Lamar Jackson rush to the left for 6 yards to the Bal45. Tackled by Sione Takitaki. Penalty: Unnecessary Roughness on Cleveland (Malik McDowell) 15 yards.',\n",
       "  '(3:11) Devonta Freeman rush to the right for 1 yard to the Bal39. Tackled by Grant Delpit and Jeremiah Owusu-Koramoah.',\n",
       "  '(3:11) Penalty: Too Many Men on Field on Cleveland 5 yards.',\n",
       "  '(3:11) Cleveland TIMEOUT.',\n",
       "  '(3:19) Lamar Jackson pass to the left to Marquise Brown for 7 yards to the Bal33. Tackled by Ronnie Harrison Jr..',\n",
       "  \"(3:23) Lamar Jackson incomplete pass to the left intended for Ty'Son Williams.\",\n",
       "  '(4:02) Devonta Freeman rush to the right for 1 yard to the Bal26. Tackled by Jeremiah Owusu-Koramoah and Malik McDowell.',\n",
       "  '(4:12) Jamie Gillan punts for 47 yards to Bal12. Devin Duvernay return for 13 yards to Bal25. Tackled by Mack Wilson.',\n",
       "  '(4:19) Baker Mayfield incomplete pass to the right intended for Austin Hooper defensed by Chuck Clark.',\n",
       "  '(4:58) Baker Mayfield pass to the right to Jarvis Landry for a loss of 1 yard to the Cle41. Tackled by Josh Bynes.',\n",
       "  '(5:00) Baker Mayfield incomplete pass to the left intended for Nick Chubb.',\n",
       "  '(5:30) Penalty: Illegal Formation on Cleveland (Donovan Peoples-Jones) -5 yards.',\n",
       "  '(5:35) Penalty: Pass Interference on Baltimore (Marlon Humphrey) 14 yards.',\n",
       "  '(5:42) Baker Mayfield incomplete pass to the right intended for Nick Chubb.',\n",
       "  '(6:11) Baker Mayfield pass to the right to Harrison Bryant for no gain to the Cle33. Tackled by Patrick Queen.',\n",
       "  \"(6:38) Baker Mayfield pass to the right to Ja'Marcus Bradley for 10 yards to the Cle33. Tackled by Marlon Humphrey and Geno Stone.\",\n",
       "  '(7:22) Nick Chubb rush to the right for 2 yards to the Cle23. Tackled by Patrick Queen.',\n",
       "  '(7:56) Baker Mayfield rush to the left for 1 yard to the Cle21. Tackled by Patrick Queen.',\n",
       "  '(8:03) Sam Koch punts for 53 yards to Cle0. Touchback.',\n",
       "  '(8:34) Lamar Jackson pass to the right to Devin Duvernay for 2 yards to the Bal47. Tackled by Greg Newsome II.',\n",
       "  '(9:10) Lamar Jackson rush up the middle for 4 yards to the Bal45. Tackled by John Johnson III and Jeremiah Owusu-Koramoah.',\n",
       "  '(9:54) Lamar Jackson sacked at Bal41 for a loss of 6 yards by Myles Garrett.',\n",
       "  '(10:34) Latavius Murray rush to the left for 2 yards to the Bal47. Tackled by Myles Garrett and Anthony Walker Jr..',\n",
       "  '(11:06) Devonta Freeman rush to the left for 1 yard to the Bal45. Tackled by Anthony Walker Jr..',\n",
       "  '(11:41) Lamar Jackson pass to the right to Rashod Bateman for 8 yards to the Bal44. Tackled by Anthony Walker Jr..',\n",
       "  '(11:45) 46 yard field goal attempt by Chase McLaughlin is NO GOOD.',\n",
       "  '(11:49) Baker Mayfield incomplete pass to the left intended for Donovan Peoples-Jones.',\n",
       "  '(12:32) Nick Chubb rush to the left for 4 yards to the Bal28. Tackled by Odafe Oweh.',\n",
       "  '(12:38) Baker Mayfield incomplete pass to the right intended for Donovan Peoples-Jones defensed by Chuck Clark.',\n",
       "  '(13:05) Baker Mayfield pass to the right to Jarvis Landry for 36 yards to the Bal32. Tackled by Brandon Stephens.',\n",
       "  '(13:45) Baker Mayfield pass to the left to Harrison Bryant for 9 yards to the Cle32. Tackled by Marlon Humphrey and Tyus Bowser.',\n",
       "  '(14:11) Nick Chubb rush to the right for a loss of 3 yards to the Cle23. Tackled by Patrick Queen.',\n",
       "  '(14:50) Baker Mayfield pass to the right to Jarvis Landry for 11 yards to the Cle26. Tackled by Patrick Queen.',\n",
       "  '(15:00) Justin Tucker kicks off to the Cle0. JoJo Natson return for 15 yards to Cle15. Tackled by Geno Stone.']]"
      ]
     },
     "execution_count": 19,
     "metadata": {},
     "output_type": "execute_result"
    }
   ],
   "source": [
    "plays_list"
   ]
  },
  {
   "cell_type": "code",
   "execution_count": null,
   "id": "6ee29044-7cf3-41ce-8bd8-b4f583d7ca59",
   "metadata": {},
   "outputs": [],
   "source": []
  }
 ],
 "metadata": {
  "kernelspec": {
   "display_name": "Python 3 (ipykernel)",
   "language": "python",
   "name": "python3"
  },
  "language_info": {
   "codemirror_mode": {
    "name": "ipython",
    "version": 3
   },
   "file_extension": ".py",
   "mimetype": "text/x-python",
   "name": "python",
   "nbconvert_exporter": "python",
   "pygments_lexer": "ipython3",
   "version": "3.9.6"
  }
 },
 "nbformat": 4,
 "nbformat_minor": 5
}
